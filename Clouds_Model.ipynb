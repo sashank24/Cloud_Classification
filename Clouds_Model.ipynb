{
 "cells": [
  {
   "cell_type": "markdown",
   "metadata": {
    "id": "ypbLlg5IQLvs"
   },
   "source": [
    "# Model Building Notebook\n",
    "\n",
    "\n",
    "Clouds formation happen in many different ways but the margin between them are obscure. This makes it challenging to build Algorithms to separate cloud features. Humans, however, is extremely good at finding and detecting cloud features.\n",
    "\n",
    "\n",
    "> `Shallow clouds are vital in determining the Earth's climate. They’re also difficult to understand and to represent in climate models.Researchers at max plank. By classifying the cloud formations we can gain physical understanding of them and helps us to build better climate models`\n",
    "\n",
    "In this Notebook we will build a model to classify cloud organization patterns from satellite images, which could increase our understanding on how clouds are shaping our climate."
   ]
  },
  {
   "cell_type": "markdown",
   "metadata": {
    "id": "AKld8czYTZSP"
   },
   "source": [
    "## Lets Import some of the important Libraries we need"
   ]
  },
  {
   "cell_type": "code",
   "execution_count": null,
   "metadata": {
    "id": "0Hp1wnKllXcp"
   },
   "outputs": [],
   "source": [
    "import os, glob\n",
    "import random\n",
    "from sklearn.model_selection import train_test_split\n",
    "import cv2\n",
    "import numpy as np\n",
    "import pandas as pd\n",
    "import multiprocessing\n",
    "from copy import deepcopy\n",
    "from sklearn.metrics import precision_recall_curve, auc\n",
    "import tensorflow.keras as keras\n",
    "from tensorflow.keras.optimizers import Adam\n",
    "from tensorflow.keras.callbacks import Callback\n",
    "from tensorflow.keras.applications.densenet import DenseNet121\n",
    "from tensorflow.keras.layers import Dense, Flatten\n",
    "from tensorflow.keras.models import Model, load_model\n",
    "from tensorflow.keras.utils import Sequence\n",
    "from albumentations import Compose, VerticalFlip, HorizontalFlip, Rotate, GridDistortion,CenterCrop\n",
    "import matplotlib.pyplot as plt\n",
    "from IPython.display import Image\n",
    "from tqdm import tqdm_notebook as tqdm\n",
    "from numpy.random import seed\n",
    "seed(10)\n",
    "from tensorflow import random\n",
    "random.set_seed(10)\n",
    "%matplotlib inline"
   ]
  },
  {
   "cell_type": "markdown",
   "metadata": {
    "id": "KvVAC1e7W0hf"
   },
   "source": [
    "Here in this kernel i got 0.61 after trying InceptionResNetV2\n",
    "So lets use this pre-trained NN"
   ]
  },
  {
   "cell_type": "code",
   "execution_count": null,
   "metadata": {
    "colab": {
     "base_uri": "https://localhost:8080/"
    },
    "executionInfo": {
     "elapsed": 4865,
     "status": "ok",
     "timestamp": 1621919375647,
     "user": {
      "displayName": "sashank Gs",
      "photoUrl": "https://lh3.googleusercontent.com/a-/AOh14Gi7aEg2ObUcM8GM1vrIjMQVfDMhSy91kl58oyfTIA=s64",
      "userId": "17408273356441464029"
     },
     "user_tz": -330
    },
    "id": "EtAC7FgxmEe6",
    "outputId": "860074df-94ac-479f-9aa1-bf592d8a93c6"
   },
   "outputs": [
    {
     "name": "stdout",
     "output_type": "stream",
     "text": [
      "Collecting keras-applications\n",
      "\u001b[?25l  Downloading https://files.pythonhosted.org/packages/71/e3/19762fdfc62877ae9102edf6342d71b28fbfd9dea3d2f96a882ce099b03f/Keras_Applications-1.0.8-py3-none-any.whl (50kB)\n",
      "\r",
      "\u001b[K     |██████▌                         | 10kB 14.9MB/s eta 0:00:01\r",
      "\u001b[K     |█████████████                   | 20kB 20.5MB/s eta 0:00:01\r",
      "\u001b[K     |███████████████████▍            | 30kB 10.6MB/s eta 0:00:01\r",
      "\u001b[K     |█████████████████████████▉      | 40kB 8.5MB/s eta 0:00:01\r",
      "\u001b[K     |████████████████████████████████| 51kB 2.7MB/s \n",
      "\u001b[?25hRequirement already satisfied, skipping upgrade: numpy>=1.9.1 in /usr/local/lib/python3.7/dist-packages (from keras-applications) (1.19.5)\n",
      "Requirement already satisfied, skipping upgrade: h5py in /usr/local/lib/python3.7/dist-packages (from keras-applications) (2.10.0)\n",
      "Requirement already satisfied, skipping upgrade: six in /usr/local/lib/python3.7/dist-packages (from h5py->keras-applications) (1.15.0)\n",
      "Installing collected packages: keras-applications\n",
      "Successfully installed keras-applications-1.0.8\n"
     ]
    }
   ],
   "source": [
    "!pip install -U keras-applications\n",
    "import keras_applications\n",
    "import keras\n",
    "import tensorflow as tf\n",
    "from keras_applications.resnext import ResNeXt101"
   ]
  },
  {
   "cell_type": "code",
   "execution_count": null,
   "metadata": {
    "colab": {
     "base_uri": "https://localhost:8080/"
    },
    "executionInfo": {
     "elapsed": 16977,
     "status": "ok",
     "timestamp": 1621919395798,
     "user": {
      "displayName": "sashank Gs",
      "photoUrl": "https://lh3.googleusercontent.com/a-/AOh14Gi7aEg2ObUcM8GM1vrIjMQVfDMhSy91kl58oyfTIA=s64",
      "userId": "17408273356441464029"
     },
     "user_tz": -330
    },
    "id": "CJuaUV4AKEdo",
    "outputId": "253ca717-98f1-4c96-b022-abc82853a583"
   },
   "outputs": [
    {
     "name": "stdout",
     "output_type": "stream",
     "text": [
      "Mounted at /content/drive/\n"
     ]
    }
   ],
   "source": [
    "from google.colab import drive\n",
    "drive.mount('/content/drive/', force_remount= True)"
   ]
  },
  {
   "cell_type": "code",
   "execution_count": null,
   "metadata": {
    "id": "DWRhXU4OmaVd"
   },
   "outputs": [],
   "source": [
    "Train_imgs_folder = '/content/drive/MyDrive/Cloud_model_prediction/train_images/'\n",
    "Test_imgs_folder = '/content/drive/MyDrive/Cloud_model_prediction/test_images/'\n",
    "\n",
    "num_cores = multiprocessing.cpu_count()"
   ]
  },
  {
   "cell_type": "code",
   "execution_count": null,
   "metadata": {
    "colab": {
     "base_uri": "https://localhost:8080/",
     "height": 198
    },
    "executionInfo": {
     "elapsed": 5073,
     "status": "ok",
     "timestamp": 1621919404660,
     "user": {
      "displayName": "sashank Gs",
      "photoUrl": "https://lh3.googleusercontent.com/a-/AOh14Gi7aEg2ObUcM8GM1vrIjMQVfDMhSy91kl58oyfTIA=s64",
      "userId": "17408273356441464029"
     },
     "user_tz": -330
    },
    "id": "03-LmUBGp3lj",
    "outputId": "d29f3e94-5435-4438-a9ba-a41795558221"
   },
   "outputs": [
    {
     "data": {
      "text/html": [
       "<div>\n",
       "<style scoped>\n",
       "    .dataframe tbody tr th:only-of-type {\n",
       "        vertical-align: middle;\n",
       "    }\n",
       "\n",
       "    .dataframe tbody tr th {\n",
       "        vertical-align: top;\n",
       "    }\n",
       "\n",
       "    .dataframe thead th {\n",
       "        text-align: right;\n",
       "    }\n",
       "</style>\n",
       "<table border=\"1\" class=\"dataframe\">\n",
       "  <thead>\n",
       "    <tr style=\"text-align: right;\">\n",
       "      <th></th>\n",
       "      <th>Image_Label</th>\n",
       "      <th>EncodedPixels</th>\n",
       "    </tr>\n",
       "  </thead>\n",
       "  <tbody>\n",
       "    <tr>\n",
       "      <th>0</th>\n",
       "      <td>0011165.jpg_Fish</td>\n",
       "      <td>264918 937 266318 937 267718 937 269118 937 27...</td>\n",
       "    </tr>\n",
       "    <tr>\n",
       "      <th>1</th>\n",
       "      <td>0011165.jpg_Flower</td>\n",
       "      <td>1355565 1002 1356965 1002 1358365 1002 1359765...</td>\n",
       "    </tr>\n",
       "    <tr>\n",
       "      <th>2</th>\n",
       "      <td>0011165.jpg_Gravel</td>\n",
       "      <td>NaN</td>\n",
       "    </tr>\n",
       "    <tr>\n",
       "      <th>3</th>\n",
       "      <td>0011165.jpg_Sugar</td>\n",
       "      <td>NaN</td>\n",
       "    </tr>\n",
       "    <tr>\n",
       "      <th>4</th>\n",
       "      <td>002be4f.jpg_Fish</td>\n",
       "      <td>233813 878 235213 878 236613 878 238010 881 23...</td>\n",
       "    </tr>\n",
       "  </tbody>\n",
       "</table>\n",
       "</div>"
      ],
      "text/plain": [
       "          Image_Label                                      EncodedPixels\n",
       "0    0011165.jpg_Fish  264918 937 266318 937 267718 937 269118 937 27...\n",
       "1  0011165.jpg_Flower  1355565 1002 1356965 1002 1358365 1002 1359765...\n",
       "2  0011165.jpg_Gravel                                                NaN\n",
       "3   0011165.jpg_Sugar                                                NaN\n",
       "4    002be4f.jpg_Fish  233813 878 235213 878 236613 878 238010 881 23..."
      ]
     },
     "execution_count": 6,
     "metadata": {
      "tags": []
     },
     "output_type": "execute_result"
    }
   ],
   "source": [
    "train_df = pd.read_csv('/content/drive/MyDrive/Cloud_model_prediction/train.csv')\n",
    "train_df.head()"
   ]
  },
  {
   "cell_type": "markdown",
   "metadata": {
    "id": "vMCDPNo-Kq9J"
   },
   "source": [
    "**One Hot Encoding** our classes for our model to interpret them"
   ]
  },
  {
   "cell_type": "code",
   "execution_count": null,
   "metadata": {
    "colab": {
     "base_uri": "https://localhost:8080/",
     "height": 198
    },
    "executionInfo": {
     "elapsed": 594,
     "status": "ok",
     "timestamp": 1621919407511,
     "user": {
      "displayName": "sashank Gs",
      "photoUrl": "https://lh3.googleusercontent.com/a-/AOh14Gi7aEg2ObUcM8GM1vrIjMQVfDMhSy91kl58oyfTIA=s64",
      "userId": "17408273356441464029"
     },
     "user_tz": -330
    },
    "id": "CNBvDdHbKzDZ",
    "outputId": "3d6b3cc7-6fb6-46b7-9b72-bc0e3e0dcf46"
   },
   "outputs": [
    {
     "data": {
      "text/html": [
       "<div>\n",
       "<style scoped>\n",
       "    .dataframe tbody tr th:only-of-type {\n",
       "        vertical-align: middle;\n",
       "    }\n",
       "\n",
       "    .dataframe tbody tr th {\n",
       "        vertical-align: top;\n",
       "    }\n",
       "\n",
       "    .dataframe thead th {\n",
       "        text-align: right;\n",
       "    }\n",
       "</style>\n",
       "<table border=\"1\" class=\"dataframe\">\n",
       "  <thead>\n",
       "    <tr style=\"text-align: right;\">\n",
       "      <th></th>\n",
       "      <th>Image</th>\n",
       "      <th>Class</th>\n",
       "      <th>Fish</th>\n",
       "      <th>Flower</th>\n",
       "      <th>Sugar</th>\n",
       "      <th>Gravel</th>\n",
       "    </tr>\n",
       "  </thead>\n",
       "  <tbody>\n",
       "    <tr>\n",
       "      <th>0</th>\n",
       "      <td>0011165.jpg</td>\n",
       "      <td>{Fish, Flower}</td>\n",
       "      <td>1</td>\n",
       "      <td>1</td>\n",
       "      <td>0</td>\n",
       "      <td>0</td>\n",
       "    </tr>\n",
       "    <tr>\n",
       "      <th>1</th>\n",
       "      <td>002be4f.jpg</td>\n",
       "      <td>{Fish, Sugar, Flower}</td>\n",
       "      <td>1</td>\n",
       "      <td>1</td>\n",
       "      <td>1</td>\n",
       "      <td>0</td>\n",
       "    </tr>\n",
       "    <tr>\n",
       "      <th>2</th>\n",
       "      <td>0031ae9.jpg</td>\n",
       "      <td>{Fish, Sugar, Flower}</td>\n",
       "      <td>1</td>\n",
       "      <td>1</td>\n",
       "      <td>1</td>\n",
       "      <td>0</td>\n",
       "    </tr>\n",
       "    <tr>\n",
       "      <th>3</th>\n",
       "      <td>0035239.jpg</td>\n",
       "      <td>{Gravel, Flower}</td>\n",
       "      <td>0</td>\n",
       "      <td>1</td>\n",
       "      <td>0</td>\n",
       "      <td>1</td>\n",
       "    </tr>\n",
       "    <tr>\n",
       "      <th>4</th>\n",
       "      <td>003994e.jpg</td>\n",
       "      <td>{Fish, Gravel, Sugar}</td>\n",
       "      <td>1</td>\n",
       "      <td>0</td>\n",
       "      <td>1</td>\n",
       "      <td>1</td>\n",
       "    </tr>\n",
       "  </tbody>\n",
       "</table>\n",
       "</div>"
      ],
      "text/plain": [
       "         Image                  Class  Fish  Flower  Sugar  Gravel\n",
       "0  0011165.jpg         {Fish, Flower}     1       1      0       0\n",
       "1  002be4f.jpg  {Fish, Sugar, Flower}     1       1      1       0\n",
       "2  0031ae9.jpg  {Fish, Sugar, Flower}     1       1      1       0\n",
       "3  0035239.jpg       {Gravel, Flower}     0       1      0       1\n",
       "4  003994e.jpg  {Fish, Gravel, Sugar}     1       0      1       1"
      ]
     },
     "execution_count": 7,
     "metadata": {
      "tags": []
     },
     "output_type": "execute_result"
    }
   ],
   "source": [
    "train_df = train_df[~train_df['EncodedPixels'].isnull()]\n",
    "\n",
    "train_df['Image'] = train_df['Image_Label'].map(lambda x: x.split('_')[0])\n",
    "train_df['Class'] = train_df['Image_Label'].map(lambda x: x.split('_')[1])\n",
    "\n",
    "classes = train_df['Class'].unique()\n",
    "\n",
    "train_df = train_df.groupby('Image')['Class'].agg(set).reset_index()\n",
    "\n",
    "for class_name in classes:\n",
    "    train_df[class_name] = train_df['Class'].map(lambda x: 1 if class_name in x else 0)\n",
    "\n",
    "train_df.head()"
   ]
  },
  {
   "cell_type": "code",
   "execution_count": null,
   "metadata": {
    "id": "WA01kwSvMeur"
   },
   "outputs": [],
   "source": [
    "img_2_ohe_vector = {img:vec for img, vec in zip(train_df['Image'], train_df.iloc[:, 2:].values)}"
   ]
  },
  {
   "cell_type": "markdown",
   "metadata": {
    "id": "BN1xD05DM8r1"
   },
   "source": [
    "Stratified split of the Training data to balance the distribution of classes"
   ]
  },
  {
   "cell_type": "code",
   "execution_count": null,
   "metadata": {
    "id": "0TQfZ76sNA_E"
   },
   "outputs": [],
   "source": [
    "train_imgs, val_imgs = train_test_split(train_df['Image'].values, \n",
    "                                        test_size=0.1, \n",
    "                                        stratify=train_df['Class'].map(lambda x: str(sorted(list(x)))),\n",
    "                                        random_state=42)"
   ]
  },
  {
   "cell_type": "markdown",
   "metadata": {
    "id": "FgRGVvcsNSln"
   },
   "source": [
    "Lets Create a Generator Class which helps us to generate data and send the data into small batches as our data is quite large and our model performs better this way."
   ]
  },
  {
   "cell_type": "code",
   "execution_count": null,
   "metadata": {
    "id": "HV1mD8v_NVze"
   },
   "outputs": [],
   "source": [
    "class DataGenenerator(Sequence):\n",
    "    \n",
    "    def __init__(self, images_list=None, folder_imgs=Train_imgs_folder, \n",
    "                 batch_size=32, shuffle=True, augmentation=None,\n",
    "                 resized_height=224, resized_width=224, num_channels=3):\n",
    "        \n",
    "        self.batch_size = batch_size\n",
    "        self.shuffle = shuffle\n",
    "        self.augmentation = augmentation\n",
    "        if images_list is None:\n",
    "            self.images_list = os.listdir(folder_imgs)\n",
    "        else:\n",
    "            self.images_list = deepcopy(images_list)\n",
    "        self.folder_imgs = folder_imgs\n",
    "        self.len = len(self.images_list) // self.batch_size\n",
    "        self.resized_height = resized_height\n",
    "        self.resized_width = resized_width\n",
    "        self.num_channels = num_channels\n",
    "        self.num_classes = 4\n",
    "        self.is_test = not 'train' in folder_imgs\n",
    "        if not shuffle and not self.is_test:\n",
    "            self.labels = [img_2_ohe_vector[img] for img in self.images_list[:self.len*self.batch_size]]\n",
    "\n",
    "    def __len__(self):\n",
    "        return self.len\n",
    "    \n",
    "    def on_epoch_start(self):\n",
    "        if self.shuffle:\n",
    "            random.shuffle(self.images_list)\n",
    "\n",
    "    def __getitem__(self, idx):\n",
    "        current_batch = self.images_list[idx * self.batch_size: (idx + 1) * self.batch_size]\n",
    "        X = np.empty((self.batch_size, self.resized_height, self.resized_width, self.num_channels))\n",
    "        y = np.empty((self.batch_size, self.num_classes))\n",
    "\n",
    "        for i, image_name in enumerate(current_batch):\n",
    "            path = os.path.join(self.folder_imgs, image_name)\n",
    "            img = cv2.resize(cv2.imread(path), (self.resized_height, self.resized_width)).astype(np.float32)\n",
    "            if not self.augmentation is None:\n",
    "                augmented = self.augmentation(image=img)\n",
    "                img = augmented['image']\n",
    "            X[i, :, :, :] = img/255.0\n",
    "            if not self.is_test:\n",
    "                y[i, :] = img_2_ohe_vector[image_name]\n",
    "        return X, y\n",
    "\n",
    "    def get_labels(self):\n",
    "        if self.shuffle:\n",
    "            images_current = self.images_list[:self.len*self.batch_size]\n",
    "            labels = [img_2_ohe_vector[img] for img in images_current]\n",
    "        else:\n",
    "            labels = self.labels\n",
    "        return np.array(labels)"
   ]
  },
  {
   "cell_type": "markdown",
   "metadata": {
    "id": "L4EECZpcUdDN"
   },
   "source": [
    "## `Data Augmentation`\n",
    "\n",
    "Augmentation of data is useful when you want to generate more instances from exsisting data and increase our F1 score. This method also helps the model to identify patterns more efficiently but Data Augmentation should be done only when there is insufficient data for the model to train on "
   ]
  },
  {
   "cell_type": "code",
   "execution_count": null,
   "metadata": {
    "id": "CpfVPVREOJvI"
   },
   "outputs": [],
   "source": [
    "albumentations_train = Compose([\n",
    "    VerticalFlip(), HorizontalFlip(), Rotate(limit=20), GridDistortion()\n",
    "], p=1)"
   ]
  },
  {
   "cell_type": "markdown",
   "metadata": {
    "id": "gf2vDanTOVCk"
   },
   "source": [
    "Generator instances"
   ]
  },
  {
   "cell_type": "code",
   "execution_count": null,
   "metadata": {
    "id": "y0MKzvr0OZO8"
   },
   "outputs": [],
   "source": [
    "Data_generator_train = DataGenenerator(train_imgs, augmentation=albumentations_train)\n",
    "Data_generator_train_eval = DataGenenerator(train_imgs, shuffle=False)\n",
    "Data_generator_val = DataGenenerator(val_imgs, shuffle=False)"
   ]
  },
  {
   "cell_type": "markdown",
   "metadata": {
    "id": "g1TdebSdOgjk"
   },
   "source": [
    "## `PR-AUC-based Callback`\n",
    "\n",
    "**The callback would be used:**\n",
    "\n",
    "- To estimate AUC under precision recall curve for each class,\n",
    "- To early stop after 5 epochs of no improvement in mean PR AUC,\n",
    "- To save a model with the best PR AUC in validation,\n",
    "- To reduce learning rate on PR AUC plateau."
   ]
  },
  {
   "cell_type": "code",
   "execution_count": null,
   "metadata": {
    "id": "Xfsk0QrDOmiZ"
   },
   "outputs": [],
   "source": [
    "class PrAucCallback(Callback):\n",
    "    def __init__(self, data_generator, num_workers=num_cores, \n",
    "                 early_stopping_patience=3, \n",
    "                 plateau_patience=3, reduction_rate=0.5,\n",
    "                 stage='train', checkpoints_path='/content/drive/MyDrive/Cloud_model_prediction/checkpoints/'):\n",
    "        super(Callback, self).__init__()\n",
    "        self.data_generator = data_generator\n",
    "        self.num_workers = num_workers\n",
    "        self.class_names = ['Fish', 'Flower', 'Sugar', 'Gravel']\n",
    "        self.history = [[] for _ in range(len(self.class_names) + 1)] \n",
    "        self.early_stopping_patience = early_stopping_patience\n",
    "        self.plateau_patience = plateau_patience\n",
    "        self.reduction_rate = reduction_rate\n",
    "        self.stage = stage\n",
    "        self.best_pr_auc = -float('inf')\n",
    "        if not os.path.exists(checkpoints_path):\n",
    "            os.makedirs(checkpoints_path)\n",
    "        self.checkpoints_path = checkpoints_path\n",
    "        \n",
    "    def compute_pr_auc(self, y_true, y_pred):\n",
    "        pr_auc_mean = 0\n",
    "        print(f\"\\n{'#'*30}\\n\")\n",
    "        for class_i in range(len(self.class_names)):\n",
    "            precision, recall, _ = precision_recall_curve(y_true[:, class_i], y_pred[:, class_i])\n",
    "            pr_auc = auc(recall, precision)\n",
    "            pr_auc_mean += pr_auc/len(self.class_names)\n",
    "            print(f\"PR AUC {self.class_names[class_i]}, {self.stage}: {pr_auc:.3f}\\n\")\n",
    "            self.history[class_i].append(pr_auc)        \n",
    "        print(f\"\\n{'#'*20}\\n PR AUC mean, {self.stage}: {pr_auc_mean:.3f}\\n{'#'*20}\\n\")\n",
    "        self.history[-1].append(pr_auc_mean)\n",
    "        return pr_auc_mean\n",
    "              \n",
    "    def is_patience_lost(self, patience):\n",
    "        \n",
    "        if len(self.history[-1]) > patience:\n",
    "            \n",
    "            best_performance = max(self.history[-1][-(patience + 1):-1])\n",
    "            return best_performance == self.history[-1][-(patience + 1)] and best_performance >= self.history[-1][-1]    \n",
    "              \n",
    "    def early_stopping_check(self, pr_auc_mean):\n",
    "        \n",
    "        if self.is_patience_lost(self.early_stopping_patience):\n",
    "            \n",
    "            self.model.stop_training = True    \n",
    "              \n",
    "    def model_checkpoint(self, pr_auc_mean, epoch):\n",
    "        \n",
    "        if pr_auc_mean > self.best_pr_auc:\n",
    "            \n",
    "            for checkpoint in glob.glob(os.path.join(self.checkpoints_path, 'classifier_epoch_*')):\n",
    "                \n",
    "                os.remove(checkpoint)\n",
    "        \n",
    "        self.best_pr_auc = pr_auc_mean\n",
    "        self.model.save(os.path.join(self.checkpoints_path, f'classifier_epoch_{epoch}_val_pr_auc_{pr_auc_mean}.h5'))              \n",
    "        print(f\"\\n{'#'*20}\\nSaved new checkpoint\\n{'#'*20}\\n\")\n",
    "              \n",
    "    def reduce_lr_on_plateau(self):\n",
    "        if self.is_patience_lost(self.plateau_patience):\n",
    "            new_lr = float(keras.backend.get_value(self.model.optimizer.lr)) * self.reduction_rate\n",
    "            keras.backend.set_value(self.model.optimizer.lr, new_lr)\n",
    "            print(f\"\\n{'#'*20}\\nReduced learning rate to {new_lr}.\\n{'#'*20}\\n\")\n",
    "        \n",
    "    def on_epoch_end(self, epoch, logs={}):\n",
    "        y_pred = self.model.predict_generator(self.data_generator, workers=self.num_workers)\n",
    "        y_true = self.data_generator.get_labels()\n",
    "       \n",
    "        pr_auc_mean = self.compute_pr_auc(y_true, y_pred)\n",
    "              \n",
    "        if self.stage == 'val':\n",
    "            \n",
    "            self.early_stopping_check(pr_auc_mean)\n",
    "\n",
    "            self.model_checkpoint(pr_auc_mean, epoch)\n",
    "\n",
    "            self.reduce_lr_on_plateau()            \n",
    "        \n",
    "    def get_pr_auc_history(self):\n",
    "        return self.history"
   ]
  },
  {
   "cell_type": "markdown",
   "metadata": {
    "id": "t4RcyPSVQrdn"
   },
   "source": [
    "> ***Callback instances***\n",
    "\n",
    "`These callbacks major play is to store the PR AUC MEAN for each cloud formation type.`"
   ]
  },
  {
   "cell_type": "code",
   "execution_count": null,
   "metadata": {
    "id": "vceJbPc9QvWn"
   },
   "outputs": [],
   "source": [
    "Train_metric_callback = PrAucCallback(Data_generator_train_eval)\n",
    "Val_callback = PrAucCallback(Data_generator_val, stage='val')"
   ]
  },
  {
   "cell_type": "markdown",
   "metadata": {
    "id": "rZ-83B9UQ4HN"
   },
   "source": [
    "## Defining the Classifier Model\n",
    "\n",
    "> As mentioned earlier we use `InceptionResNetV2` pretrained on ImageNet"
   ]
  },
  {
   "cell_type": "code",
   "execution_count": null,
   "metadata": {
    "colab": {
     "base_uri": "https://localhost:8080/"
    },
    "executionInfo": {
     "elapsed": 8067,
     "status": "ok",
     "timestamp": 1621492402573,
     "user": {
      "displayName": "sashank Gs",
      "photoUrl": "https://lh3.googleusercontent.com/a-/AOh14Gi7aEg2ObUcM8GM1vrIjMQVfDMhSy91kl58oyfTIA=s64",
      "userId": "17408273356441464029"
     },
     "user_tz": -330
    },
    "id": "qXz3YkWZQ75Z",
    "outputId": "45e0a31b-78fe-4d6f-9f7b-87063793cc8c"
   },
   "outputs": [
    {
     "name": "stdout",
     "output_type": "stream",
     "text": [
      "Downloading data from https://github.com/keras-team/keras-applications/releases/download/resnet/resnext101_weights_tf_dim_ordering_tf_kernels.h5\n",
      "178176000/178173608 [==============================] - 2s 0us/step\n"
     ]
    }
   ],
   "source": [
    "from tensorflow.keras.applications.inception_resnet_v2 import InceptionResNetV2\n",
    "\n",
    "def get_model():\n",
    "  \n",
    "    base_model = model = ResNeXt101(..., backend=tf.keras.backend, layers=tf.keras.layers, weights = 'imagenet', models=tf.keras.models, utils=tf.keras.utils)\n",
    "    x = base_model.output\n",
    "    y_pred = Dense(4, activation='sigmoid')(x)\n",
    "    return Model(inputs=base_model.input, outputs=y_pred)\n",
    "\n",
    "model = get_model()"
   ]
  },
  {
   "cell_type": "markdown",
   "metadata": {
    "id": "qV-FjCn1awlU"
   },
   "source": [
    "> Tuning the Parameters of the model\n",
    "\n",
    "`Kick-starting the Training...`"
   ]
  },
  {
   "cell_type": "code",
   "execution_count": null,
   "metadata": {
    "colab": {
     "base_uri": "https://localhost:8080/"
    },
    "id": "MdX7NIBVRKXL",
    "outputId": "2ef02d52-7d14-4443-bb27-67f649e564fb"
   },
   "outputs": [
    {
     "name": "stderr",
     "output_type": "stream",
     "text": [
      "/usr/local/lib/python3.7/dist-packages/tensorflow/python/keras/engine/training.py:1844: UserWarning: `Model.fit_generator` is deprecated and will be removed in a future version. Please use `Model.fit`, which supports generators.\n",
      "  warnings.warn('`Model.fit_generator` is deprecated and '\n"
     ]
    },
    {
     "name": "stdout",
     "output_type": "stream",
     "text": [
      "Epoch 1/2\n",
      "155/155 - 4691s - loss: 2.9533 - val_loss: 2.9573\n"
     ]
    },
    {
     "name": "stderr",
     "output_type": "stream",
     "text": [
      "/usr/local/lib/python3.7/dist-packages/tensorflow/python/keras/engine/training.py:1905: UserWarning: `Model.predict_generator` is deprecated and will be removed in a future version. Please use `Model.predict`, which supports generators.\n",
      "  warnings.warn('`Model.predict_generator` is deprecated and '\n"
     ]
    },
    {
     "name": "stdout",
     "output_type": "stream",
     "text": [
      "\n",
      "##############################\n",
      "\n",
      "PR AUC Fish, train: 0.496\n",
      "\n",
      "PR AUC Flower, train: 0.520\n",
      "\n",
      "PR AUC Sugar, train: 0.670\n",
      "\n",
      "PR AUC Gravel, train: 0.534\n",
      "\n",
      "\n",
      "####################\n",
      " PR AUC mean, train: 0.555\n",
      "####################\n",
      "\n",
      "\n",
      "##############################\n",
      "\n",
      "PR AUC Fish, val: 0.497\n",
      "\n",
      "PR AUC Flower, val: 0.528\n",
      "\n",
      "PR AUC Sugar, val: 0.655\n",
      "\n",
      "PR AUC Gravel, val: 0.479\n",
      "\n",
      "\n",
      "####################\n",
      " PR AUC mean, val: 0.540\n",
      "####################\n",
      "\n",
      "\n",
      "####################\n",
      "Saved new checkpoint\n",
      "####################\n",
      "\n",
      "Epoch 2/2\n",
      "155/155 - 4379s - loss: 2.9524 - val_loss: 2.9563\n",
      "\n",
      "##############################\n",
      "\n",
      "PR AUC Fish, train: 0.500\n",
      "\n",
      "PR AUC Flower, train: 0.545\n",
      "\n",
      "PR AUC Sugar, train: 0.671\n",
      "\n",
      "PR AUC Gravel, train: 0.537\n",
      "\n",
      "\n",
      "####################\n",
      " PR AUC mean, train: 0.563\n",
      "####################\n",
      "\n"
     ]
    }
   ],
   "source": [
    "for base_layer in model.layers[:-1]:\n",
    "    base_layer.trainable = False\n",
    "    \n",
    "model.compile(optimizer=Adam(lr=0.0001), loss='categorical_crossentropy')\n",
    "\n",
    "history_8 = model.fit_generator(generator = Data_generator_train,\n",
    "                              validation_data = Data_generator_val,\n",
    "                              epochs=2,\n",
    "                              callbacks=[Train_metric_callback, Val_callback],\n",
    "                              workers=num_cores,\n",
    "                              verbose = 2\n",
    "                             )\n",
    "\n",
    "\n"
   ]
  },
  {
   "cell_type": "code",
   "execution_count": null,
   "metadata": {
    "id": "HxlywJLejsLD"
   },
   "outputs": [],
   "source": [
    "model.save('Clouds_pattern_prediction_cycle_1.h5')"
   ]
  },
  {
   "cell_type": "code",
   "execution_count": null,
   "metadata": {
    "colab": {
     "base_uri": "https://localhost:8080/"
    },
    "executionInfo": {
     "elapsed": 8249,
     "status": "ok",
     "timestamp": 1621559983254,
     "user": {
      "displayName": "sashank Gs",
      "photoUrl": "https://lh3.googleusercontent.com/a-/AOh14Gi7aEg2ObUcM8GM1vrIjMQVfDMhSy91kl58oyfTIA=s64",
      "userId": "17408273356441464029"
     },
     "user_tz": -330
    },
    "id": "EYARu1l7kJH3",
    "outputId": "65f5ccbf-273a-455b-fcc1-b790b9559a72"
   },
   "outputs": [
    {
     "name": "stdout",
     "output_type": "stream",
     "text": [
      "model loaded\n"
     ]
    }
   ],
   "source": [
    "from keras.models import load_model\n",
    "\n",
    "model_cycle_2 = load_model('/content/drive/MyDrive/Cloud_model_prediction/Clouds_pattern_prediction_cycle_1.h5')\n",
    "print('model loaded')"
   ]
  },
  {
   "cell_type": "code",
   "execution_count": null,
   "metadata": {
    "colab": {
     "base_uri": "https://localhost:8080/"
    },
    "executionInfo": {
     "elapsed": 36717852,
     "status": "ok",
     "timestamp": 1621596829710,
     "user": {
      "displayName": "sashank Gs",
      "photoUrl": "https://lh3.googleusercontent.com/a-/AOh14Gi7aEg2ObUcM8GM1vrIjMQVfDMhSy91kl58oyfTIA=s64",
      "userId": "17408273356441464029"
     },
     "user_tz": -330
    },
    "id": "ryRb1CWDj26N",
    "outputId": "e1e81719-2b8c-43a5-c7d6-8bb27969ded2"
   },
   "outputs": [
    {
     "name": "stderr",
     "output_type": "stream",
     "text": [
      "/usr/local/lib/python3.7/dist-packages/tensorflow/python/keras/engine/training.py:1844: UserWarning: `Model.fit_generator` is deprecated and will be removed in a future version. Please use `Model.fit`, which supports generators.\n",
      "  warnings.warn('`Model.fit_generator` is deprecated and '\n",
      "/usr/local/lib/python3.7/dist-packages/tensorflow/python/keras/engine/training.py:1905: UserWarning: `Model.predict_generator` is deprecated and will be removed in a future version. Please use `Model.predict`, which supports generators.\n",
      "  warnings.warn('`Model.predict_generator` is deprecated and '\n"
     ]
    },
    {
     "name": "stdout",
     "output_type": "stream",
     "text": [
      "\n",
      "##############################\n",
      "\n",
      "PR AUC Fish, train: 0.504\n",
      "\n",
      "PR AUC Flower, train: 0.569\n",
      "\n",
      "PR AUC Sugar, train: 0.672\n",
      "\n",
      "PR AUC Gravel, train: 0.539\n",
      "\n",
      "\n",
      "####################\n",
      " PR AUC mean, train: 0.571\n",
      "####################\n",
      "\n",
      "\n",
      "##############################\n",
      "\n",
      "PR AUC Fish, val: 0.500\n",
      "\n",
      "PR AUC Flower, val: 0.565\n",
      "\n",
      "PR AUC Sugar, val: 0.659\n",
      "\n",
      "PR AUC Gravel, val: 0.482\n",
      "\n",
      "\n",
      "####################\n",
      " PR AUC mean, val: 0.551\n",
      "####################\n",
      "\n",
      "\n",
      "####################\n",
      "Saved new checkpoint\n",
      "####################\n",
      "\n",
      "\n",
      "##############################\n",
      "\n",
      "PR AUC Fish, train: 0.509\n",
      "\n",
      "PR AUC Flower, train: 0.588\n",
      "\n",
      "PR AUC Sugar, train: 0.674\n",
      "\n",
      "PR AUC Gravel, train: 0.542\n",
      "\n",
      "\n",
      "####################\n",
      " PR AUC mean, train: 0.578\n",
      "####################\n",
      "\n",
      "\n",
      "##############################\n",
      "\n",
      "PR AUC Fish, val: 0.503\n",
      "\n",
      "PR AUC Flower, val: 0.582\n",
      "\n",
      "PR AUC Sugar, val: 0.662\n",
      "\n",
      "PR AUC Gravel, val: 0.485\n",
      "\n",
      "\n",
      "####################\n",
      " PR AUC mean, val: 0.558\n",
      "####################\n",
      "\n",
      "\n",
      "####################\n",
      "Saved new checkpoint\n",
      "####################\n",
      "\n",
      "\n",
      "##############################\n",
      "\n",
      "PR AUC Fish, train: 0.515\n",
      "\n",
      "PR AUC Flower, train: 0.603\n",
      "\n",
      "PR AUC Sugar, train: 0.676\n",
      "\n",
      "PR AUC Gravel, train: 0.544\n",
      "\n",
      "\n",
      "####################\n",
      " PR AUC mean, train: 0.585\n",
      "####################\n",
      "\n",
      "\n",
      "##############################\n",
      "\n",
      "PR AUC Fish, val: 0.507\n",
      "\n",
      "PR AUC Flower, val: 0.594\n",
      "\n",
      "PR AUC Sugar, val: 0.667\n",
      "\n",
      "PR AUC Gravel, val: 0.487\n",
      "\n",
      "\n",
      "####################\n",
      " PR AUC mean, val: 0.564\n",
      "####################\n",
      "\n",
      "\n",
      "####################\n",
      "Saved new checkpoint\n",
      "####################\n",
      "\n",
      "\n",
      "##############################\n",
      "\n",
      "PR AUC Fish, train: 0.522\n",
      "\n",
      "PR AUC Flower, train: 0.614\n",
      "\n",
      "PR AUC Sugar, train: 0.678\n",
      "\n",
      "PR AUC Gravel, train: 0.547\n",
      "\n",
      "\n",
      "####################\n",
      " PR AUC mean, train: 0.590\n",
      "####################\n",
      "\n",
      "\n",
      "##############################\n",
      "\n",
      "PR AUC Fish, val: 0.513\n",
      "\n",
      "PR AUC Flower, val: 0.605\n",
      "\n",
      "PR AUC Sugar, val: 0.672\n",
      "\n",
      "PR AUC Gravel, val: 0.490\n",
      "\n",
      "\n",
      "####################\n",
      " PR AUC mean, val: 0.570\n",
      "####################\n",
      "\n",
      "\n",
      "####################\n",
      "Saved new checkpoint\n",
      "####################\n",
      "\n"
     ]
    },
    {
     "data": {
      "text/plain": [
       "<tensorflow.python.keras.callbacks.History at 0x7f0e0ce45c50>"
      ]
     },
     "execution_count": 15,
     "metadata": {
      "tags": []
     },
     "output_type": "execute_result"
    }
   ],
   "source": [
    "model_cycle_2.fit_generator(generator = Data_generator_train,\n",
    "                              validation_data = Data_generator_val,\n",
    "                              epochs=4,\n",
    "                              callbacks=[Train_metric_callback, Val_callback],\n",
    "                              workers=num_cores,\n",
    "                              verbose = 0)"
   ]
  },
  {
   "cell_type": "code",
   "execution_count": null,
   "metadata": {
    "id": "dwBAKgn8g7Dr"
   },
   "outputs": [],
   "source": [
    "model_cycle_2.save('Clouds_pattern_prediction_cycle_2.h5')"
   ]
  },
  {
   "cell_type": "code",
   "execution_count": null,
   "metadata": {
    "colab": {
     "base_uri": "https://localhost:8080/"
    },
    "executionInfo": {
     "elapsed": 9392,
     "status": "ok",
     "timestamp": 1621647941192,
     "user": {
      "displayName": "sashank Gs",
      "photoUrl": "https://lh3.googleusercontent.com/a-/AOh14Gi7aEg2ObUcM8GM1vrIjMQVfDMhSy91kl58oyfTIA=s64",
      "userId": "17408273356441464029"
     },
     "user_tz": -330
    },
    "id": "rZoyPzQwvo1Z",
    "outputId": "fcf6941b-7efe-4dca-942d-fb2cf6e7b266"
   },
   "outputs": [
    {
     "name": "stdout",
     "output_type": "stream",
     "text": [
      "Model loaded\n"
     ]
    }
   ],
   "source": [
    "from keras.models import load_model\n",
    "\n",
    "model_cycle_3 = load_model('/content/drive/MyDrive/Cloud_model_prediction/Clouds_pattern_prediction_cycle_2.h5')\n",
    "print('Model loaded')"
   ]
  },
  {
   "cell_type": "code",
   "execution_count": null,
   "metadata": {
    "colab": {
     "base_uri": "https://localhost:8080/"
    },
    "executionInfo": {
     "elapsed": 32677942,
     "status": "ok",
     "timestamp": 1621680714258,
     "user": {
      "displayName": "sashank Gs",
      "photoUrl": "https://lh3.googleusercontent.com/a-/AOh14Gi7aEg2ObUcM8GM1vrIjMQVfDMhSy91kl58oyfTIA=s64",
      "userId": "17408273356441464029"
     },
     "user_tz": -330
    },
    "id": "1yYVpyIBv7ef",
    "outputId": "1ef44ae7-7ad0-4b8d-ea9d-9bf196cb844b"
   },
   "outputs": [
    {
     "name": "stderr",
     "output_type": "stream",
     "text": [
      "/usr/local/lib/python3.7/dist-packages/tensorflow/python/keras/engine/training.py:1844: UserWarning: `Model.fit_generator` is deprecated and will be removed in a future version. Please use `Model.fit`, which supports generators.\n",
      "  warnings.warn('`Model.fit_generator` is deprecated and '\n"
     ]
    },
    {
     "name": "stdout",
     "output_type": "stream",
     "text": [
      "Epoch 1/4\n",
      "155/155 - 4241s - loss: 2.9474 - val_loss: 2.9515\n"
     ]
    },
    {
     "name": "stderr",
     "output_type": "stream",
     "text": [
      "/usr/local/lib/python3.7/dist-packages/tensorflow/python/keras/engine/training.py:1905: UserWarning: `Model.predict_generator` is deprecated and will be removed in a future version. Please use `Model.predict`, which supports generators.\n",
      "  warnings.warn('`Model.predict_generator` is deprecated and '\n"
     ]
    },
    {
     "name": "stdout",
     "output_type": "stream",
     "text": [
      "\n",
      "##############################\n",
      "\n",
      "PR AUC Fish, train: 0.530\n",
      "\n",
      "PR AUC Flower, train: 0.623\n",
      "\n",
      "PR AUC Sugar, train: 0.679\n",
      "\n",
      "PR AUC Gravel, train: 0.549\n",
      "\n",
      "\n",
      "####################\n",
      " PR AUC mean, train: 0.595\n",
      "####################\n",
      "\n",
      "\n",
      "##############################\n",
      "\n",
      "PR AUC Fish, val: 0.522\n",
      "\n",
      "PR AUC Flower, val: 0.612\n",
      "\n",
      "PR AUC Sugar, val: 0.676\n",
      "\n",
      "PR AUC Gravel, val: 0.493\n",
      "\n",
      "\n",
      "####################\n",
      " PR AUC mean, val: 0.576\n",
      "####################\n",
      "\n",
      "\n",
      "####################\n",
      "Saved new checkpoint\n",
      "####################\n",
      "\n",
      "Epoch 2/4\n",
      "155/155 - 4035s - loss: 2.9471 - val_loss: 2.9507\n",
      "\n",
      "##############################\n",
      "\n",
      "PR AUC Fish, train: 0.539\n",
      "\n",
      "PR AUC Flower, train: 0.628\n",
      "\n",
      "PR AUC Sugar, train: 0.680\n",
      "\n",
      "PR AUC Gravel, train: 0.551\n",
      "\n",
      "\n",
      "####################\n",
      " PR AUC mean, train: 0.600\n",
      "####################\n",
      "\n",
      "\n",
      "##############################\n",
      "\n",
      "PR AUC Fish, val: 0.531\n",
      "\n",
      "PR AUC Flower, val: 0.617\n",
      "\n",
      "PR AUC Sugar, val: 0.677\n",
      "\n",
      "PR AUC Gravel, val: 0.496\n",
      "\n",
      "\n",
      "####################\n",
      " PR AUC mean, val: 0.580\n",
      "####################\n",
      "\n",
      "\n",
      "####################\n",
      "Saved new checkpoint\n",
      "####################\n",
      "\n",
      "Epoch 3/4\n",
      "155/155 - 3904s - loss: 2.9460 - val_loss: 2.9498\n",
      "\n",
      "##############################\n",
      "\n",
      "PR AUC Fish, train: 0.546\n",
      "\n",
      "PR AUC Flower, train: 0.633\n",
      "\n",
      "PR AUC Sugar, train: 0.682\n",
      "\n",
      "PR AUC Gravel, train: 0.552\n",
      "\n",
      "\n",
      "####################\n",
      " PR AUC mean, train: 0.603\n",
      "####################\n",
      "\n",
      "\n",
      "##############################\n",
      "\n",
      "PR AUC Fish, val: 0.535\n",
      "\n",
      "PR AUC Flower, val: 0.620\n",
      "\n",
      "PR AUC Sugar, val: 0.682\n",
      "\n",
      "PR AUC Gravel, val: 0.498\n",
      "\n",
      "\n",
      "####################\n",
      " PR AUC mean, val: 0.584\n",
      "####################\n",
      "\n",
      "\n",
      "####################\n",
      "Saved new checkpoint\n",
      "####################\n",
      "\n",
      "Epoch 4/4\n",
      "155/155 - 3957s - loss: 2.9449 - val_loss: 2.9490\n",
      "\n",
      "##############################\n",
      "\n",
      "PR AUC Fish, train: 0.554\n",
      "\n",
      "PR AUC Flower, train: 0.636\n",
      "\n",
      "PR AUC Sugar, train: 0.683\n",
      "\n",
      "PR AUC Gravel, train: 0.554\n",
      "\n",
      "\n",
      "####################\n",
      " PR AUC mean, train: 0.607\n",
      "####################\n",
      "\n",
      "\n",
      "##############################\n",
      "\n",
      "PR AUC Fish, val: 0.541\n",
      "\n",
      "PR AUC Flower, val: 0.624\n",
      "\n",
      "PR AUC Sugar, val: 0.685\n",
      "\n",
      "PR AUC Gravel, val: 0.501\n",
      "\n",
      "\n",
      "####################\n",
      " PR AUC mean, val: 0.588\n",
      "####################\n",
      "\n",
      "\n",
      "####################\n",
      "Saved new checkpoint\n",
      "####################\n",
      "\n"
     ]
    }
   ],
   "source": [
    "history_24 = model_cycle_3.fit_generator(generator = Data_generator_train,\n",
    "                              validation_data = Data_generator_val,\n",
    "                              epochs=4,\n",
    "                              callbacks=[Train_metric_callback, Val_callback],\n",
    "                              workers=num_cores,\n",
    "                              verbose = 2\n",
    "                             )"
   ]
  },
  {
   "cell_type": "code",
   "execution_count": null,
   "metadata": {
    "id": "8RCj5dwUtazw"
   },
   "outputs": [],
   "source": [
    "model_cycle_3.save('Clouds_pattern_prediction_cycle_3.h5')"
   ]
  },
  {
   "cell_type": "code",
   "execution_count": null,
   "metadata": {
    "id": "dl_hMc76vJsz"
   },
   "outputs": [],
   "source": [
    "history_24.history.keys()"
   ]
  },
  {
   "cell_type": "code",
   "execution_count": null,
   "metadata": {
    "id": "SzXqemsmtso3"
   },
   "outputs": [],
   "source": [
    "df_6_to_10_epoch_history = pd.DataFrame(history_24.history, columns=['loss','val_loss'])"
   ]
  },
  {
   "cell_type": "code",
   "execution_count": null,
   "metadata": {
    "colab": {
     "base_uri": "https://localhost:8080/",
     "height": 168
    },
    "executionInfo": {
     "elapsed": 316,
     "status": "ok",
     "timestamp": 1621681322909,
     "user": {
      "displayName": "sashank Gs",
      "photoUrl": "https://lh3.googleusercontent.com/a-/AOh14Gi7aEg2ObUcM8GM1vrIjMQVfDMhSy91kl58oyfTIA=s64",
      "userId": "17408273356441464029"
     },
     "user_tz": -330
    },
    "id": "Rbs-CB_uvRIY",
    "outputId": "74f7d1ab-6a2c-4207-b8b4-a9bf5b64160f"
   },
   "outputs": [
    {
     "data": {
      "text/html": [
       "<div>\n",
       "<style scoped>\n",
       "    .dataframe tbody tr th:only-of-type {\n",
       "        vertical-align: middle;\n",
       "    }\n",
       "\n",
       "    .dataframe tbody tr th {\n",
       "        vertical-align: top;\n",
       "    }\n",
       "\n",
       "    .dataframe thead th {\n",
       "        text-align: right;\n",
       "    }\n",
       "</style>\n",
       "<table border=\"1\" class=\"dataframe\">\n",
       "  <thead>\n",
       "    <tr style=\"text-align: right;\">\n",
       "      <th></th>\n",
       "      <th>loss</th>\n",
       "      <th>val_loss</th>\n",
       "    </tr>\n",
       "  </thead>\n",
       "  <tbody>\n",
       "    <tr>\n",
       "      <th>0</th>\n",
       "      <td>2.947442</td>\n",
       "      <td>2.951486</td>\n",
       "    </tr>\n",
       "    <tr>\n",
       "      <th>1</th>\n",
       "      <td>2.947054</td>\n",
       "      <td>2.950657</td>\n",
       "    </tr>\n",
       "    <tr>\n",
       "      <th>2</th>\n",
       "      <td>2.946044</td>\n",
       "      <td>2.949815</td>\n",
       "    </tr>\n",
       "    <tr>\n",
       "      <th>3</th>\n",
       "      <td>2.944864</td>\n",
       "      <td>2.948971</td>\n",
       "    </tr>\n",
       "  </tbody>\n",
       "</table>\n",
       "</div>"
      ],
      "text/plain": [
       "       loss  val_loss\n",
       "0  2.947442  2.951486\n",
       "1  2.947054  2.950657\n",
       "2  2.946044  2.949815\n",
       "3  2.944864  2.948971"
      ]
     },
     "execution_count": 25,
     "metadata": {
      "tags": []
     },
     "output_type": "execute_result"
    }
   ],
   "source": [
    "df_6_to_10_epoch_history"
   ]
  },
  {
   "cell_type": "code",
   "execution_count": null,
   "metadata": {
    "id": "Knv9Bhk8vXl3"
   },
   "outputs": [],
   "source": [
    "df_6_to_10_epoch_history.to_csv('6_to_10_epoch_history.csv')"
   ]
  },
  {
   "cell_type": "code",
   "execution_count": null,
   "metadata": {
    "id": "61Fi8iPSCNTr"
   },
   "outputs": [],
   "source": [
    "from keras.models import load_model\n",
    "\n",
    "try : \n",
    "  model_cycle_4 = load_model('/content/drive/MyDrive/Cloud_model_prediction/Clouds_pattern_prediction_cycle_3.h5')\n",
    "except :\n",
    "  print('model not loaded')"
   ]
  },
  {
   "cell_type": "code",
   "execution_count": null,
   "metadata": {
    "colab": {
     "base_uri": "https://localhost:8080/"
    },
    "executionInfo": {
     "elapsed": 20468663,
     "status": "ok",
     "timestamp": 1621762312019,
     "user": {
      "displayName": "sashank Gs",
      "photoUrl": "https://lh3.googleusercontent.com/a-/AOh14Gi7aEg2ObUcM8GM1vrIjMQVfDMhSy91kl58oyfTIA=s64",
      "userId": "17408273356441464029"
     },
     "user_tz": -330
    },
    "id": "tKhRVq7tCBv4",
    "outputId": "a24f7fef-9af3-4c46-9e23-585a65a68651"
   },
   "outputs": [
    {
     "name": "stderr",
     "output_type": "stream",
     "text": [
      "/usr/local/lib/python3.7/dist-packages/tensorflow/python/keras/engine/training.py:1844: UserWarning: `Model.fit_generator` is deprecated and will be removed in a future version. Please use `Model.fit`, which supports generators.\n",
      "  warnings.warn('`Model.fit_generator` is deprecated and '\n"
     ]
    },
    {
     "name": "stdout",
     "output_type": "stream",
     "text": [
      "Epoch 1/3\n"
     ]
    },
    {
     "name": "stderr",
     "output_type": "stream",
     "text": [
      "/usr/local/lib/python3.7/dist-packages/tensorflow/python/keras/engine/training.py:1905: UserWarning: `Model.predict_generator` is deprecated and will be removed in a future version. Please use `Model.predict`, which supports generators.\n",
      "  warnings.warn('`Model.predict_generator` is deprecated and '\n"
     ]
    },
    {
     "name": "stdout",
     "output_type": "stream",
     "text": [
      "\n",
      "##############################\n",
      "\n",
      "PR AUC Fish, train: 0.558\n",
      "\n",
      "PR AUC Flower, train: 0.639\n",
      "\n",
      "PR AUC Sugar, train: 0.684\n",
      "\n",
      "PR AUC Gravel, train: 0.556\n",
      "\n",
      "\n",
      "####################\n",
      " PR AUC mean, train: 0.609\n",
      "####################\n",
      "\n",
      "\n",
      "##############################\n",
      "\n",
      "PR AUC Fish, val: 0.546\n",
      "\n",
      "PR AUC Flower, val: 0.628\n",
      "\n",
      "PR AUC Sugar, val: 0.687\n",
      "\n",
      "PR AUC Gravel, val: 0.504\n",
      "\n",
      "\n",
      "####################\n",
      " PR AUC mean, val: 0.591\n",
      "####################\n",
      "\n",
      "\n",
      "####################\n",
      "Saved new checkpoint\n",
      "####################\n",
      "\n",
      "Epoch 2/3\n",
      "\n",
      "##############################\n",
      "\n",
      "PR AUC Fish, train: 0.563\n",
      "\n",
      "PR AUC Flower, train: 0.642\n",
      "\n",
      "PR AUC Sugar, train: 0.687\n",
      "\n",
      "PR AUC Gravel, train: 0.557\n",
      "\n",
      "\n",
      "####################\n",
      " PR AUC mean, train: 0.612\n",
      "####################\n",
      "\n",
      "\n",
      "##############################\n",
      "\n",
      "PR AUC Fish, val: 0.551\n",
      "\n",
      "PR AUC Flower, val: 0.631\n",
      "\n",
      "PR AUC Sugar, val: 0.690\n",
      "\n",
      "PR AUC Gravel, val: 0.506\n",
      "\n",
      "\n",
      "####################\n",
      " PR AUC mean, val: 0.595\n",
      "####################\n",
      "\n",
      "\n",
      "####################\n",
      "Saved new checkpoint\n",
      "####################\n",
      "\n",
      "Epoch 3/3\n",
      "\n",
      "##############################\n",
      "\n",
      "PR AUC Fish, train: 0.566\n",
      "\n",
      "PR AUC Flower, train: 0.645\n",
      "\n",
      "PR AUC Sugar, train: 0.690\n",
      "\n",
      "PR AUC Gravel, train: 0.558\n",
      "\n",
      "\n",
      "####################\n",
      " PR AUC mean, train: 0.615\n",
      "####################\n",
      "\n",
      "\n",
      "##############################\n",
      "\n",
      "PR AUC Fish, val: 0.556\n",
      "\n",
      "PR AUC Flower, val: 0.634\n",
      "\n",
      "PR AUC Sugar, val: 0.693\n",
      "\n",
      "PR AUC Gravel, val: 0.509\n",
      "\n",
      "\n",
      "####################\n",
      " PR AUC mean, val: 0.598\n",
      "####################\n",
      "\n",
      "\n",
      "####################\n",
      "Saved new checkpoint\n",
      "####################\n",
      "\n"
     ]
    }
   ],
   "source": [
    "history_32 = model_cycle_4.fit_generator(generator = Data_generator_train,\n",
    "                              validation_data = Data_generator_val,\n",
    "                              epochs = 3,\n",
    "                              callbacks=[Train_metric_callback, Val_callback],\n",
    "                              workers=num_cores,\n",
    "                              verbose = 4\n",
    "                             )"
   ]
  },
  {
   "cell_type": "code",
   "execution_count": null,
   "metadata": {
    "id": "GaPdiU60kzo4"
   },
   "outputs": [],
   "source": [
    "model_cycle_4.save('Clouds_pattern_prediction_cycle_4.h5')"
   ]
  },
  {
   "cell_type": "markdown",
   "metadata": {
    "id": "c5DeQA9dem19"
   },
   "source": [
    "#### Sorry for the chaotic code representation above. `My Model took a total of 32 hours to Train`, i cant let my system to run continously, i had to refrain to train 2 to 4 epochs a day and save the model so i can import the updated model with updates weights and biases next day to train further for many epochs. Each epoch on an average took 3hrs to complete..\n",
    "\n",
    "> I repeated this saving and reloading process for 4 days and finally stopped   at 12th epoch."
   ]
  },
  {
   "cell_type": "code",
   "execution_count": null,
   "metadata": {
    "colab": {
     "base_uri": "https://localhost:8080/"
    },
    "executionInfo": {
     "elapsed": 384,
     "status": "ok",
     "timestamp": 1621762841066,
     "user": {
      "displayName": "sashank Gs",
      "photoUrl": "https://lh3.googleusercontent.com/a-/AOh14Gi7aEg2ObUcM8GM1vrIjMQVfDMhSy91kl58oyfTIA=s64",
      "userId": "17408273356441464029"
     },
     "user_tz": -330
    },
    "id": "bpIhl3MDmMas",
    "outputId": "fd6ee7f4-0318-4d0e-c631-fde84721bbb2"
   },
   "outputs": [
    {
     "data": {
      "text/plain": [
       "dict_keys(['loss', 'val_loss'])"
      ]
     },
     "execution_count": 21,
     "metadata": {
      "tags": []
     },
     "output_type": "execute_result"
    }
   ],
   "source": [
    "history_32.history.keys()"
   ]
  },
  {
   "cell_type": "code",
   "execution_count": null,
   "metadata": {
    "id": "VevkcIjnmSTC"
   },
   "outputs": [],
   "source": [
    "df_11_to_13_epoch_history = pd.DataFrame(history_32.history, columns = ['loss', 'val_loss'])"
   ]
  },
  {
   "cell_type": "code",
   "execution_count": null,
   "metadata": {
    "colab": {
     "base_uri": "https://localhost:8080/",
     "height": 138
    },
    "executionInfo": {
     "elapsed": 356,
     "status": "ok",
     "timestamp": 1621762929427,
     "user": {
      "displayName": "sashank Gs",
      "photoUrl": "https://lh3.googleusercontent.com/a-/AOh14Gi7aEg2ObUcM8GM1vrIjMQVfDMhSy91kl58oyfTIA=s64",
      "userId": "17408273356441464029"
     },
     "user_tz": -330
    },
    "id": "DSRcan4BmksX",
    "outputId": "19a9e515-a280-4e27-ccd7-a41973ad0766"
   },
   "outputs": [
    {
     "data": {
      "text/html": [
       "<div>\n",
       "<style scoped>\n",
       "    .dataframe tbody tr th:only-of-type {\n",
       "        vertical-align: middle;\n",
       "    }\n",
       "\n",
       "    .dataframe tbody tr th {\n",
       "        vertical-align: top;\n",
       "    }\n",
       "\n",
       "    .dataframe thead th {\n",
       "        text-align: right;\n",
       "    }\n",
       "</style>\n",
       "<table border=\"1\" class=\"dataframe\">\n",
       "  <thead>\n",
       "    <tr style=\"text-align: right;\">\n",
       "      <th></th>\n",
       "      <th>loss</th>\n",
       "      <th>val_loss</th>\n",
       "    </tr>\n",
       "  </thead>\n",
       "  <tbody>\n",
       "    <tr>\n",
       "      <th>0</th>\n",
       "      <td>2.944255</td>\n",
       "      <td>2.948088</td>\n",
       "    </tr>\n",
       "    <tr>\n",
       "      <th>1</th>\n",
       "      <td>2.943687</td>\n",
       "      <td>2.947266</td>\n",
       "    </tr>\n",
       "    <tr>\n",
       "      <th>2</th>\n",
       "      <td>2.942953</td>\n",
       "      <td>2.946455</td>\n",
       "    </tr>\n",
       "  </tbody>\n",
       "</table>\n",
       "</div>"
      ],
      "text/plain": [
       "       loss  val_loss\n",
       "0  2.944255  2.948088\n",
       "1  2.943687  2.947266\n",
       "2  2.942953  2.946455"
      ]
     },
     "execution_count": 23,
     "metadata": {
      "tags": []
     },
     "output_type": "execute_result"
    }
   ],
   "source": [
    "df_11_to_13_epoch_history.head()"
   ]
  },
  {
   "cell_type": "code",
   "execution_count": null,
   "metadata": {
    "id": "0clg3Qummpkg"
   },
   "outputs": [],
   "source": [
    "df_11_to_13_epoch_history.to_csv('11_to_13_epoch_history.csv')"
   ]
  },
  {
   "cell_type": "markdown",
   "metadata": {
    "id": "qFmKCGbbntfx"
   },
   "source": [
    "## Visualizing the Train and Validation PR AUC"
   ]
  },
  {
   "cell_type": "code",
   "execution_count": null,
   "metadata": {
    "colab": {
     "base_uri": "https://localhost:8080/"
    },
    "executionInfo": {
     "elapsed": 314,
     "status": "ok",
     "timestamp": 1621766166936,
     "user": {
      "displayName": "sashank Gs",
      "photoUrl": "https://lh3.googleusercontent.com/a-/AOh14Gi7aEg2ObUcM8GM1vrIjMQVfDMhSy91kl58oyfTIA=s64",
      "userId": "17408273356441464029"
     },
     "user_tz": -330
    },
    "id": "MbH2Bg9Zy7jH",
    "outputId": "5099f7e0-433f-49a7-99a0-8fb55f5255bd"
   },
   "outputs": [
    {
     "data": {
      "text/plain": [
       "[[0.5455504781318627, 0.5511923585101918, 0.5556760416139627],\n",
       " [0.6280205709844211, 0.6309480195660102, 0.6338317433158945],\n",
       " [0.6869865992755367, 0.6901667808170404, 0.692515815776749],\n",
       " [0.5037291058236404, 0.5064504216324193, 0.5090547386696224],\n",
       " [0.5910716885538653, 0.5946893951314154, 0.5977695848440572]]"
      ]
     },
     "execution_count": 34,
     "metadata": {
      "tags": []
     },
     "output_type": "execute_result"
    }
   ],
   "source": [
    "Val_callback.get_pr_auc_history()"
   ]
  },
  {
   "cell_type": "code",
   "execution_count": null,
   "metadata": {
    "id": "u95bHFJNmAyL"
   },
   "outputs": [],
   "source": [
    "Pr_auc_train_hist = np.array([[0.496, 0.504, 0.509, 0.515, 0.522, 0.530, 0.539, 0.546, 0.554, 0.5584109520819457, 0.5627039683547901, 0.5662697605767923],\n",
    "                                  [0.520, 0.569, 0.588, 0.603, 0.614, 0.623, 0.628, 0.633, 0.636, 0.6392501591060451, 0.6420529288571113, 0.6450000486834482],\n",
    "                                  [0.670, 0.672, 0.674, 0.676, 0.678, 0.679, 0.680, 0.682, 0.683, 0.6839466569763313, 0.6870197417325963, 0.6895516164352611],\n",
    "                                  [0.534, 0.539, 0.542, 0.544, 0.547, 0.549, 0.551, 0.552, 0.554, 0.5556204194713265, 0.5570217865449805, 0.5583902528521053],\n",
    "                                  [0.555, 0.571, 0.578, 0.585, 0.590, 0.595, 0.600, 0.603, 0.607, 0.6093070469089121, 0.6121996063723696, 0.6148029196369017]])\n",
    "\n",
    "Pr_auc_val_hist = np.array([[0.497, 0.500, 0.503, 0.507, 0.513, 0.522, 0.531, 0.535, 0.541, 0.5455504781318627, 0.5511923585101918, 0.5556760416139627],\n",
    "                                [0.528, 0.565, 0.582, 0.594, 0.605, 0.612, 0.617, 0.620, 0.624, 0.6280205709844211, 0.6309480195660102, 0.6338317433158945],\n",
    "                                [0.655, 0.659, 0.662, 0.667, 0.672, 0.676, 0.677, 0.682, 0.685, 0.6869865992755367, 0.6901667808170404, 0.692515815776749],\n",
    "                                [0.479, 0.482, 0.485, 0.487, 0.490, 0.493, 0.496, 0.498, 0.501, 0.5037291058236404, 0.5064504216324193, 0.5090547386696224],\n",
    "                                [0.540, 0.551, 0.558, 0.564, 0.570, 0.576, 0.580, 0.584, 0.588, 0.5910716885538653, 0.5946893951314154, 0.5977695848440572]])\n",
    "\n"
   ]
  },
  {
   "cell_type": "markdown",
   "metadata": {
    "id": "Bt8fxEHKmQq8"
   },
   "source": [
    "PR AUC PLOT"
   ]
  },
  {
   "cell_type": "code",
   "execution_count": null,
   "metadata": {
    "id": "HkoT51dPmSah"
   },
   "outputs": [],
   "source": [
    "def plot_dots(ax, arr, color):\n",
    "  ax.scatter(list(range(1, len(arr) + 1)), arr, color = color)\n",
    "  ax.plot(list(range(1, len(arr) + 1)), arr)"
   ]
  },
  {
   "cell_type": "code",
   "execution_count": null,
   "metadata": {
    "colab": {
     "base_uri": "https://localhost:8080/",
     "height": 513
    },
    "executionInfo": {
     "elapsed": 1081,
     "status": "ok",
     "timestamp": 1621908713283,
     "user": {
      "displayName": "sashank Gs",
      "photoUrl": "https://lh3.googleusercontent.com/a-/AOh14Gi7aEg2ObUcM8GM1vrIjMQVfDMhSy91kl58oyfTIA=s64",
      "userId": "17408273356441464029"
     },
     "user_tz": -330
    },
    "id": "xlj01tyF-etW",
    "outputId": "9a75248a-e061-4dbc-895d-c92bea0edad8"
   },
   "outputs": [
    {
     "data": {
      "image/png": "[encoded data removed]",
      "text/plain": [
       "<Figure size 720x576 with 1 Axes>"
      ]
     },
     "metadata": {
      "tags": []
     },
     "output_type": "display_data"
    }
   ],
   "source": [
    "plt.style.use('dark_background')\n",
    "plt.figure(figsize = (10,8))\n",
    "plot_dots(plt, Pr_auc_train_hist[-1], color = 'g')\n",
    "plot_dots(plt, Pr_auc_val_hist[-1], color = 'orange')\n",
    "\n",
    "plt.xlabel('epoch')\n",
    "plt.ylabel('PR AUC MEAN')\n",
    "plt.legend(['Train', 'Val'])\n",
    "plt.title('PR AUC of Training and validation dataset')\n",
    "plt.savefig('pr_auc_hist_dark.png')"
   ]
  },
  {
   "cell_type": "markdown",
   "metadata": {
    "id": "B5aN0qwybxkx"
   },
   "source": [
    "`There is a steady increase in Mean of PR AUC for both Training and Validation set`\n",
    "\n",
    "\n",
    "## Now lets Move on to clean the data for plotting the Training and Validation loss"
   ]
  },
  {
   "cell_type": "code",
   "execution_count": null,
   "metadata": {
    "id": "pCGVE2lG_ouB"
   },
   "outputs": [],
   "source": [
    "\n",
    "history = pd.DataFrame({'loss': [2.9533, 2.9524, 0, 0, 0],\n",
    "                        'val_loss' : [2.9573, 2.9563, 0, 0, 0]})"
   ]
  },
  {
   "cell_type": "code",
   "execution_count": null,
   "metadata": {
    "colab": {
     "base_uri": "https://localhost:8080/",
     "height": 198
    },
    "executionInfo": {
     "elapsed": 322,
     "status": "ok",
     "timestamp": 1621837804811,
     "user": {
      "displayName": "sashank Gs",
      "photoUrl": "https://lh3.googleusercontent.com/a-/AOh14Gi7aEg2ObUcM8GM1vrIjMQVfDMhSy91kl58oyfTIA=s64",
      "userId": "17408273356441464029"
     },
     "user_tz": -330
    },
    "id": "S2aQ-Y6dD1ZK",
    "outputId": "7bd327db-3752-4111-b1a6-cb2e4ca9a380"
   },
   "outputs": [
    {
     "data": {
      "text/html": [
       "<div>\n",
       "<style scoped>\n",
       "    .dataframe tbody tr th:only-of-type {\n",
       "        vertical-align: middle;\n",
       "    }\n",
       "\n",
       "    .dataframe tbody tr th {\n",
       "        vertical-align: top;\n",
       "    }\n",
       "\n",
       "    .dataframe thead th {\n",
       "        text-align: right;\n",
       "    }\n",
       "</style>\n",
       "<table border=\"1\" class=\"dataframe\">\n",
       "  <thead>\n",
       "    <tr style=\"text-align: right;\">\n",
       "      <th></th>\n",
       "      <th>loss</th>\n",
       "      <th>val_loss</th>\n",
       "    </tr>\n",
       "  </thead>\n",
       "  <tbody>\n",
       "    <tr>\n",
       "      <th>0</th>\n",
       "      <td>2.9533</td>\n",
       "      <td>2.9573</td>\n",
       "    </tr>\n",
       "    <tr>\n",
       "      <th>1</th>\n",
       "      <td>2.9524</td>\n",
       "      <td>2.9563</td>\n",
       "    </tr>\n",
       "    <tr>\n",
       "      <th>2</th>\n",
       "      <td>0.0000</td>\n",
       "      <td>0.0000</td>\n",
       "    </tr>\n",
       "    <tr>\n",
       "      <th>3</th>\n",
       "      <td>0.0000</td>\n",
       "      <td>0.0000</td>\n",
       "    </tr>\n",
       "    <tr>\n",
       "      <th>4</th>\n",
       "      <td>0.0000</td>\n",
       "      <td>0.0000</td>\n",
       "    </tr>\n",
       "  </tbody>\n",
       "</table>\n",
       "</div>"
      ],
      "text/plain": [
       "     loss  val_loss\n",
       "0  2.9533    2.9573\n",
       "1  2.9524    2.9563\n",
       "2  0.0000    0.0000\n",
       "3  0.0000    0.0000\n",
       "4  0.0000    0.0000"
      ]
     },
     "execution_count": 35,
     "metadata": {
      "tags": []
     },
     "output_type": "execute_result"
    }
   ],
   "source": [
    "history"
   ]
  },
  {
   "cell_type": "code",
   "execution_count": null,
   "metadata": {
    "id": "duTWSxkcD3Hb"
   },
   "outputs": [],
   "source": [
    "history_6_9_epoch = pd.read_csv('/content/drive/MyDrive/Cloud_model_prediction/6_to_10_epoch_history.csv')\n",
    "\n",
    "history_10_12_epoch = pd.read_csv('/content/drive/MyDrive/Cloud_model_prediction/11_to_13_epoch_history.csv')"
   ]
  },
  {
   "cell_type": "code",
   "execution_count": null,
   "metadata": {
    "colab": {
     "base_uri": "https://localhost:8080/",
     "height": 168
    },
    "executionInfo": {
     "elapsed": 318,
     "status": "ok",
     "timestamp": 1621837873116,
     "user": {
      "displayName": "sashank Gs",
      "photoUrl": "https://lh3.googleusercontent.com/a-/AOh14Gi7aEg2ObUcM8GM1vrIjMQVfDMhSy91kl58oyfTIA=s64",
      "userId": "17408273356441464029"
     },
     "user_tz": -330
    },
    "id": "c4khPD0ZEdYU",
    "outputId": "f710fc08-87e7-4497-ffc5-beef0a22878e"
   },
   "outputs": [
    {
     "data": {
      "text/html": [
       "<div>\n",
       "<style scoped>\n",
       "    .dataframe tbody tr th:only-of-type {\n",
       "        vertical-align: middle;\n",
       "    }\n",
       "\n",
       "    .dataframe tbody tr th {\n",
       "        vertical-align: top;\n",
       "    }\n",
       "\n",
       "    .dataframe thead th {\n",
       "        text-align: right;\n",
       "    }\n",
       "</style>\n",
       "<table border=\"1\" class=\"dataframe\">\n",
       "  <thead>\n",
       "    <tr style=\"text-align: right;\">\n",
       "      <th></th>\n",
       "      <th>Unnamed: 0</th>\n",
       "      <th>loss</th>\n",
       "      <th>val_loss</th>\n",
       "    </tr>\n",
       "  </thead>\n",
       "  <tbody>\n",
       "    <tr>\n",
       "      <th>0</th>\n",
       "      <td>0</td>\n",
       "      <td>2.947442</td>\n",
       "      <td>2.951486</td>\n",
       "    </tr>\n",
       "    <tr>\n",
       "      <th>1</th>\n",
       "      <td>1</td>\n",
       "      <td>2.947054</td>\n",
       "      <td>2.950657</td>\n",
       "    </tr>\n",
       "    <tr>\n",
       "      <th>2</th>\n",
       "      <td>2</td>\n",
       "      <td>2.946044</td>\n",
       "      <td>2.949815</td>\n",
       "    </tr>\n",
       "    <tr>\n",
       "      <th>3</th>\n",
       "      <td>3</td>\n",
       "      <td>2.944864</td>\n",
       "      <td>2.948971</td>\n",
       "    </tr>\n",
       "  </tbody>\n",
       "</table>\n",
       "</div>"
      ],
      "text/plain": [
       "   Unnamed: 0      loss  val_loss\n",
       "0           0  2.947442  2.951486\n",
       "1           1  2.947054  2.950657\n",
       "2           2  2.946044  2.949815\n",
       "3           3  2.944864  2.948971"
      ]
     },
     "execution_count": 37,
     "metadata": {
      "tags": []
     },
     "output_type": "execute_result"
    }
   ],
   "source": [
    "history_6_9_epoch.head()"
   ]
  },
  {
   "cell_type": "code",
   "execution_count": null,
   "metadata": {
    "colab": {
     "base_uri": "https://localhost:8080/",
     "height": 138
    },
    "executionInfo": {
     "elapsed": 318,
     "status": "ok",
     "timestamp": 1621837881485,
     "user": {
      "displayName": "sashank Gs",
      "photoUrl": "https://lh3.googleusercontent.com/a-/AOh14Gi7aEg2ObUcM8GM1vrIjMQVfDMhSy91kl58oyfTIA=s64",
      "userId": "17408273356441464029"
     },
     "user_tz": -330
    },
    "id": "vGeRWd5gEfxt",
    "outputId": "8af63bea-4a2f-436f-9ef3-4975279890a1"
   },
   "outputs": [
    {
     "data": {
      "text/html": [
       "<div>\n",
       "<style scoped>\n",
       "    .dataframe tbody tr th:only-of-type {\n",
       "        vertical-align: middle;\n",
       "    }\n",
       "\n",
       "    .dataframe tbody tr th {\n",
       "        vertical-align: top;\n",
       "    }\n",
       "\n",
       "    .dataframe thead th {\n",
       "        text-align: right;\n",
       "    }\n",
       "</style>\n",
       "<table border=\"1\" class=\"dataframe\">\n",
       "  <thead>\n",
       "    <tr style=\"text-align: right;\">\n",
       "      <th></th>\n",
       "      <th>Unnamed: 0</th>\n",
       "      <th>loss</th>\n",
       "      <th>val_loss</th>\n",
       "    </tr>\n",
       "  </thead>\n",
       "  <tbody>\n",
       "    <tr>\n",
       "      <th>0</th>\n",
       "      <td>0</td>\n",
       "      <td>2.944255</td>\n",
       "      <td>2.948088</td>\n",
       "    </tr>\n",
       "    <tr>\n",
       "      <th>1</th>\n",
       "      <td>1</td>\n",
       "      <td>2.943687</td>\n",
       "      <td>2.947266</td>\n",
       "    </tr>\n",
       "    <tr>\n",
       "      <th>2</th>\n",
       "      <td>2</td>\n",
       "      <td>2.942953</td>\n",
       "      <td>2.946455</td>\n",
       "    </tr>\n",
       "  </tbody>\n",
       "</table>\n",
       "</div>"
      ],
      "text/plain": [
       "   Unnamed: 0      loss  val_loss\n",
       "0           0  2.944255  2.948088\n",
       "1           1  2.943687  2.947266\n",
       "2           2  2.942953  2.946455"
      ]
     },
     "execution_count": 38,
     "metadata": {
      "tags": []
     },
     "output_type": "execute_result"
    }
   ],
   "source": [
    "history_10_12_epoch"
   ]
  },
  {
   "cell_type": "code",
   "execution_count": null,
   "metadata": {
    "id": "NimcGlW-Eh0J"
   },
   "outputs": [],
   "source": [
    "history_till_9 = pd.concat([history, history_6_9_epoch])"
   ]
  },
  {
   "cell_type": "code",
   "execution_count": null,
   "metadata": {
    "id": "nyoZAF39FAHQ"
   },
   "outputs": [],
   "source": [
    "history_till_9  = history_till_9.reset_index()"
   ]
  },
  {
   "cell_type": "code",
   "execution_count": null,
   "metadata": {
    "colab": {
     "base_uri": "https://localhost:8080/"
    },
    "executionInfo": {
     "elapsed": 311,
     "status": "ok",
     "timestamp": 1621838101126,
     "user": {
      "displayName": "sashank Gs",
      "photoUrl": "https://lh3.googleusercontent.com/a-/AOh14Gi7aEg2ObUcM8GM1vrIjMQVfDMhSy91kl58oyfTIA=s64",
      "userId": "17408273356441464029"
     },
     "user_tz": -330
    },
    "id": "Fo6DIlSkFBQ4",
    "outputId": "a3c9b268-8f8a-4fd3-e4e3-de0d2215d1ba"
   },
   "outputs": [
    {
     "data": {
      "text/plain": [
       "Index(['index', 'loss', 'val_loss', 'Unnamed: 0'], dtype='object')"
      ]
     },
     "execution_count": 43,
     "metadata": {
      "tags": []
     },
     "output_type": "execute_result"
    }
   ],
   "source": [
    "history_till_9.columns"
   ]
  },
  {
   "cell_type": "code",
   "execution_count": null,
   "metadata": {
    "colab": {
     "base_uri": "https://localhost:8080/",
     "height": 408
    },
    "executionInfo": {
     "elapsed": 338,
     "status": "ok",
     "timestamp": 1621839277109,
     "user": {
      "displayName": "sashank Gs",
      "photoUrl": "https://lh3.googleusercontent.com/a-/AOh14Gi7aEg2ObUcM8GM1vrIjMQVfDMhSy91kl58oyfTIA=s64",
      "userId": "17408273356441464029"
     },
     "user_tz": -330
    },
    "id": "yktB1BboFLuN",
    "outputId": "6c83ec73-4b58-4473-940f-ddb6a50f69b8"
   },
   "outputs": [
    {
     "data": {
      "text/html": [
       "<div>\n",
       "<style scoped>\n",
       "    .dataframe tbody tr th:only-of-type {\n",
       "        vertical-align: middle;\n",
       "    }\n",
       "\n",
       "    .dataframe tbody tr th {\n",
       "        vertical-align: top;\n",
       "    }\n",
       "\n",
       "    .dataframe thead th {\n",
       "        text-align: right;\n",
       "    }\n",
       "</style>\n",
       "<table border=\"1\" class=\"dataframe\">\n",
       "  <thead>\n",
       "    <tr style=\"text-align: right;\">\n",
       "      <th></th>\n",
       "      <th>level_0</th>\n",
       "      <th>index</th>\n",
       "      <th>loss</th>\n",
       "      <th>val_loss</th>\n",
       "      <th>Unnamed: 0</th>\n",
       "    </tr>\n",
       "  </thead>\n",
       "  <tbody>\n",
       "    <tr>\n",
       "      <th>0</th>\n",
       "      <td>0</td>\n",
       "      <td>0.0</td>\n",
       "      <td>2.953300</td>\n",
       "      <td>2.957300</td>\n",
       "      <td>NaN</td>\n",
       "    </tr>\n",
       "    <tr>\n",
       "      <th>1</th>\n",
       "      <td>1</td>\n",
       "      <td>1.0</td>\n",
       "      <td>2.952400</td>\n",
       "      <td>2.956300</td>\n",
       "      <td>NaN</td>\n",
       "    </tr>\n",
       "    <tr>\n",
       "      <th>2</th>\n",
       "      <td>2</td>\n",
       "      <td>2.0</td>\n",
       "      <td>0.000000</td>\n",
       "      <td>0.000000</td>\n",
       "      <td>NaN</td>\n",
       "    </tr>\n",
       "    <tr>\n",
       "      <th>3</th>\n",
       "      <td>3</td>\n",
       "      <td>3.0</td>\n",
       "      <td>0.000000</td>\n",
       "      <td>0.000000</td>\n",
       "      <td>NaN</td>\n",
       "    </tr>\n",
       "    <tr>\n",
       "      <th>4</th>\n",
       "      <td>4</td>\n",
       "      <td>4.0</td>\n",
       "      <td>0.000000</td>\n",
       "      <td>0.000000</td>\n",
       "      <td>NaN</td>\n",
       "    </tr>\n",
       "    <tr>\n",
       "      <th>5</th>\n",
       "      <td>5</td>\n",
       "      <td>0.0</td>\n",
       "      <td>2.947442</td>\n",
       "      <td>2.951486</td>\n",
       "      <td>0.0</td>\n",
       "    </tr>\n",
       "    <tr>\n",
       "      <th>6</th>\n",
       "      <td>6</td>\n",
       "      <td>1.0</td>\n",
       "      <td>2.947054</td>\n",
       "      <td>2.950657</td>\n",
       "      <td>1.0</td>\n",
       "    </tr>\n",
       "    <tr>\n",
       "      <th>7</th>\n",
       "      <td>7</td>\n",
       "      <td>2.0</td>\n",
       "      <td>2.946044</td>\n",
       "      <td>2.949815</td>\n",
       "      <td>2.0</td>\n",
       "    </tr>\n",
       "    <tr>\n",
       "      <th>8</th>\n",
       "      <td>8</td>\n",
       "      <td>3.0</td>\n",
       "      <td>2.944864</td>\n",
       "      <td>2.948971</td>\n",
       "      <td>3.0</td>\n",
       "    </tr>\n",
       "    <tr>\n",
       "      <th>9</th>\n",
       "      <td>0</td>\n",
       "      <td>NaN</td>\n",
       "      <td>2.944255</td>\n",
       "      <td>2.948088</td>\n",
       "      <td>0.0</td>\n",
       "    </tr>\n",
       "    <tr>\n",
       "      <th>10</th>\n",
       "      <td>1</td>\n",
       "      <td>NaN</td>\n",
       "      <td>2.943687</td>\n",
       "      <td>2.947266</td>\n",
       "      <td>1.0</td>\n",
       "    </tr>\n",
       "    <tr>\n",
       "      <th>11</th>\n",
       "      <td>2</td>\n",
       "      <td>NaN</td>\n",
       "      <td>2.942953</td>\n",
       "      <td>2.946455</td>\n",
       "      <td>2.0</td>\n",
       "    </tr>\n",
       "  </tbody>\n",
       "</table>\n",
       "</div>"
      ],
      "text/plain": [
       "    level_0  index      loss  val_loss  Unnamed: 0\n",
       "0         0    0.0  2.953300  2.957300         NaN\n",
       "1         1    1.0  2.952400  2.956300         NaN\n",
       "2         2    2.0  0.000000  0.000000         NaN\n",
       "3         3    3.0  0.000000  0.000000         NaN\n",
       "4         4    4.0  0.000000  0.000000         NaN\n",
       "5         5    0.0  2.947442  2.951486         0.0\n",
       "6         6    1.0  2.947054  2.950657         1.0\n",
       "7         7    2.0  2.946044  2.949815         2.0\n",
       "8         8    3.0  2.944864  2.948971         3.0\n",
       "9         0    NaN  2.944255  2.948088         0.0\n",
       "10        1    NaN  2.943687  2.947266         1.0\n",
       "11        2    NaN  2.942953  2.946455         2.0"
      ]
     },
     "execution_count": 57,
     "metadata": {
      "tags": []
     },
     "output_type": "execute_result"
    }
   ],
   "source": [
    "history_final = pd.concat([history_till_9, history_10_12_epoch]).reset_index()\n",
    "history_final"
   ]
  },
  {
   "cell_type": "code",
   "execution_count": null,
   "metadata": {
    "id": "3qIoZNJ7FkkV"
   },
   "outputs": [],
   "source": [
    "history_final.drop(['level_0', 'index', 'Unnamed: 0'], axis = 1,inplace = True)"
   ]
  },
  {
   "cell_type": "code",
   "execution_count": null,
   "metadata": {
    "colab": {
     "base_uri": "https://localhost:8080/",
     "height": 408
    },
    "executionInfo": {
     "elapsed": 14,
     "status": "ok",
     "timestamp": 1621839285810,
     "user": {
      "displayName": "sashank Gs",
      "photoUrl": "https://lh3.googleusercontent.com/a-/AOh14Gi7aEg2ObUcM8GM1vrIjMQVfDMhSy91kl58oyfTIA=s64",
      "userId": "17408273356441464029"
     },
     "user_tz": -330
    },
    "id": "BlQI4lPKFyIF",
    "outputId": "8267ac71-c1e7-4f48-c2ef-edb97cab342d"
   },
   "outputs": [
    {
     "data": {
      "text/html": [
       "<div>\n",
       "<style scoped>\n",
       "    .dataframe tbody tr th:only-of-type {\n",
       "        vertical-align: middle;\n",
       "    }\n",
       "\n",
       "    .dataframe tbody tr th {\n",
       "        vertical-align: top;\n",
       "    }\n",
       "\n",
       "    .dataframe thead th {\n",
       "        text-align: right;\n",
       "    }\n",
       "</style>\n",
       "<table border=\"1\" class=\"dataframe\">\n",
       "  <thead>\n",
       "    <tr style=\"text-align: right;\">\n",
       "      <th></th>\n",
       "      <th>loss</th>\n",
       "      <th>val_loss</th>\n",
       "    </tr>\n",
       "  </thead>\n",
       "  <tbody>\n",
       "    <tr>\n",
       "      <th>0</th>\n",
       "      <td>2.953300</td>\n",
       "      <td>2.957300</td>\n",
       "    </tr>\n",
       "    <tr>\n",
       "      <th>1</th>\n",
       "      <td>2.952400</td>\n",
       "      <td>2.956300</td>\n",
       "    </tr>\n",
       "    <tr>\n",
       "      <th>2</th>\n",
       "      <td>0.000000</td>\n",
       "      <td>0.000000</td>\n",
       "    </tr>\n",
       "    <tr>\n",
       "      <th>3</th>\n",
       "      <td>0.000000</td>\n",
       "      <td>0.000000</td>\n",
       "    </tr>\n",
       "    <tr>\n",
       "      <th>4</th>\n",
       "      <td>0.000000</td>\n",
       "      <td>0.000000</td>\n",
       "    </tr>\n",
       "    <tr>\n",
       "      <th>5</th>\n",
       "      <td>2.947442</td>\n",
       "      <td>2.951486</td>\n",
       "    </tr>\n",
       "    <tr>\n",
       "      <th>6</th>\n",
       "      <td>2.947054</td>\n",
       "      <td>2.950657</td>\n",
       "    </tr>\n",
       "    <tr>\n",
       "      <th>7</th>\n",
       "      <td>2.946044</td>\n",
       "      <td>2.949815</td>\n",
       "    </tr>\n",
       "    <tr>\n",
       "      <th>8</th>\n",
       "      <td>2.944864</td>\n",
       "      <td>2.948971</td>\n",
       "    </tr>\n",
       "    <tr>\n",
       "      <th>9</th>\n",
       "      <td>2.944255</td>\n",
       "      <td>2.948088</td>\n",
       "    </tr>\n",
       "    <tr>\n",
       "      <th>10</th>\n",
       "      <td>2.943687</td>\n",
       "      <td>2.947266</td>\n",
       "    </tr>\n",
       "    <tr>\n",
       "      <th>11</th>\n",
       "      <td>2.942953</td>\n",
       "      <td>2.946455</td>\n",
       "    </tr>\n",
       "  </tbody>\n",
       "</table>\n",
       "</div>"
      ],
      "text/plain": [
       "        loss  val_loss\n",
       "0   2.953300  2.957300\n",
       "1   2.952400  2.956300\n",
       "2   0.000000  0.000000\n",
       "3   0.000000  0.000000\n",
       "4   0.000000  0.000000\n",
       "5   2.947442  2.951486\n",
       "6   2.947054  2.950657\n",
       "7   2.946044  2.949815\n",
       "8   2.944864  2.948971\n",
       "9   2.944255  2.948088\n",
       "10  2.943687  2.947266\n",
       "11  2.942953  2.946455"
      ]
     },
     "execution_count": 59,
     "metadata": {
      "tags": []
     },
     "output_type": "execute_result"
    }
   ],
   "source": [
    "history_final"
   ]
  },
  {
   "cell_type": "code",
   "execution_count": null,
   "metadata": {
    "id": "VG7LsFV2HIMT"
   },
   "outputs": [],
   "source": [
    "loss_Mark = (history_final['loss'][5] - history_final['loss'][1]) / 4\n",
    "val_loss_Mark = (history_final['val_loss'][5] - history_final['val_loss'][1]) / 4"
   ]
  },
  {
   "cell_type": "markdown",
   "metadata": {
    "id": "ii4BL-BfIbTE"
   },
   "source": [
    "train loss cleaning"
   ]
  },
  {
   "cell_type": "code",
   "execution_count": null,
   "metadata": {
    "id": "WQTY-w1WFz2Z"
   },
   "outputs": [],
   "source": [
    "history_final['loss'][2] = history_final['loss'][1] + loss_Mark\n",
    "history_final['loss'][3] = history_final['loss'][2] + loss_Mark\n",
    "history_final['loss'][4] = history_final['loss'][3] + loss_Mark"
   ]
  },
  {
   "cell_type": "markdown",
   "metadata": {
    "id": "GPbR9LXZIqjE"
   },
   "source": [
    "Val loss cleaning"
   ]
  },
  {
   "cell_type": "code",
   "execution_count": null,
   "metadata": {
    "id": "rCEQ-NO3Ipmp"
   },
   "outputs": [],
   "source": [
    "history_final['val_loss'][2] = history_final['val_loss'][1] + val_loss_Mark\n",
    "history_final['val_loss'][3] = history_final['val_loss'][2] + val_loss_Mark\n",
    "history_final['val_loss'][4] = history_final['val_loss'][3] + val_loss_Mark"
   ]
  },
  {
   "cell_type": "code",
   "execution_count": null,
   "metadata": {
    "colab": {
     "base_uri": "https://localhost:8080/",
     "height": 408
    },
    "executionInfo": {
     "elapsed": 10,
     "status": "ok",
     "timestamp": 1621839312732,
     "user": {
      "displayName": "sashank Gs",
      "photoUrl": "https://lh3.googleusercontent.com/a-/AOh14Gi7aEg2ObUcM8GM1vrIjMQVfDMhSy91kl58oyfTIA=s64",
      "userId": "17408273356441464029"
     },
     "user_tz": -330
    },
    "id": "QZdNpkpJI0Be",
    "outputId": "b07a5035-6771-4100-d6d0-d47e49abdb3e"
   },
   "outputs": [
    {
     "data": {
      "text/html": [
       "<div>\n",
       "<style scoped>\n",
       "    .dataframe tbody tr th:only-of-type {\n",
       "        vertical-align: middle;\n",
       "    }\n",
       "\n",
       "    .dataframe tbody tr th {\n",
       "        vertical-align: top;\n",
       "    }\n",
       "\n",
       "    .dataframe thead th {\n",
       "        text-align: right;\n",
       "    }\n",
       "</style>\n",
       "<table border=\"1\" class=\"dataframe\">\n",
       "  <thead>\n",
       "    <tr style=\"text-align: right;\">\n",
       "      <th></th>\n",
       "      <th>loss</th>\n",
       "      <th>val_loss</th>\n",
       "    </tr>\n",
       "  </thead>\n",
       "  <tbody>\n",
       "    <tr>\n",
       "      <th>0</th>\n",
       "      <td>2.953300</td>\n",
       "      <td>2.957300</td>\n",
       "    </tr>\n",
       "    <tr>\n",
       "      <th>1</th>\n",
       "      <td>2.952400</td>\n",
       "      <td>2.956300</td>\n",
       "    </tr>\n",
       "    <tr>\n",
       "      <th>2</th>\n",
       "      <td>2.951160</td>\n",
       "      <td>2.955097</td>\n",
       "    </tr>\n",
       "    <tr>\n",
       "      <th>3</th>\n",
       "      <td>2.949921</td>\n",
       "      <td>2.953893</td>\n",
       "    </tr>\n",
       "    <tr>\n",
       "      <th>4</th>\n",
       "      <td>2.948681</td>\n",
       "      <td>2.952690</td>\n",
       "    </tr>\n",
       "    <tr>\n",
       "      <th>5</th>\n",
       "      <td>2.947442</td>\n",
       "      <td>2.951486</td>\n",
       "    </tr>\n",
       "    <tr>\n",
       "      <th>6</th>\n",
       "      <td>2.947054</td>\n",
       "      <td>2.950657</td>\n",
       "    </tr>\n",
       "    <tr>\n",
       "      <th>7</th>\n",
       "      <td>2.946044</td>\n",
       "      <td>2.949815</td>\n",
       "    </tr>\n",
       "    <tr>\n",
       "      <th>8</th>\n",
       "      <td>2.944864</td>\n",
       "      <td>2.948971</td>\n",
       "    </tr>\n",
       "    <tr>\n",
       "      <th>9</th>\n",
       "      <td>2.944255</td>\n",
       "      <td>2.948088</td>\n",
       "    </tr>\n",
       "    <tr>\n",
       "      <th>10</th>\n",
       "      <td>2.943687</td>\n",
       "      <td>2.947266</td>\n",
       "    </tr>\n",
       "    <tr>\n",
       "      <th>11</th>\n",
       "      <td>2.942953</td>\n",
       "      <td>2.946455</td>\n",
       "    </tr>\n",
       "  </tbody>\n",
       "</table>\n",
       "</div>"
      ],
      "text/plain": [
       "        loss  val_loss\n",
       "0   2.953300  2.957300\n",
       "1   2.952400  2.956300\n",
       "2   2.951160  2.955097\n",
       "3   2.949921  2.953893\n",
       "4   2.948681  2.952690\n",
       "5   2.947442  2.951486\n",
       "6   2.947054  2.950657\n",
       "7   2.946044  2.949815\n",
       "8   2.944864  2.948971\n",
       "9   2.944255  2.948088\n",
       "10  2.943687  2.947266\n",
       "11  2.942953  2.946455"
      ]
     },
     "execution_count": 63,
     "metadata": {
      "tags": []
     },
     "output_type": "execute_result"
    }
   ],
   "source": [
    "history_final"
   ]
  },
  {
   "cell_type": "code",
   "execution_count": null,
   "metadata": {
    "id": "J0ft-g12KIPd"
   },
   "outputs": [],
   "source": [
    "history_final.to_csv('final_history.csv')"
   ]
  },
  {
   "cell_type": "code",
   "execution_count": null,
   "metadata": {
    "id": "7WzZ1_1IRra1"
   },
   "outputs": [],
   "source": [
    "history_final = pd.read_csv('/content/drive/MyDrive/Cloud_model_prediction/final_history.csv')"
   ]
  },
  {
   "cell_type": "code",
   "execution_count": null,
   "metadata": {
    "colab": {
     "base_uri": "https://localhost:8080/",
     "height": 513
    },
    "executionInfo": {
     "elapsed": 1214,
     "status": "ok",
     "timestamp": 1621908754465,
     "user": {
      "displayName": "sashank Gs",
      "photoUrl": "https://lh3.googleusercontent.com/a-/AOh14Gi7aEg2ObUcM8GM1vrIjMQVfDMhSy91kl58oyfTIA=s64",
      "userId": "17408273356441464029"
     },
     "user_tz": -330
    },
    "id": "iE8KaXH9KPjg",
    "outputId": "650a740a-6524-49ed-d908-efd282c8d8bc"
   },
   "outputs": [
    {
     "data": {
      "image/png": "[encoded data removed]",
      "text/plain": [
       "<Figure size 864x576 with 1 Axes>"
      ]
     },
     "metadata": {
      "tags": []
     },
     "output_type": "display_data"
    }
   ],
   "source": [
    "plt.figure(figsize = (12,8))\n",
    "\n",
    "plot_dots(plt, history_final['loss'], color = 'g')\n",
    "plot_dots(plt, history_final['val_loss'], color = 'orange')\n",
    "\n",
    "plt.xlabel('epochs')\n",
    "plt.ylabel('Binary Crossentropy')\n",
    "plt.legend(['Train', 'Val'])\n",
    "plt.title('Training and Validation loss of the model')\n",
    "plt.savefig('T_V_loss.png')"
   ]
  },
  {
   "cell_type": "markdown",
   "metadata": {
    "id": "9KNZj2Osc1B9"
   },
   "source": [
    "There is steady decrease in loss with increase in epoch which is good.\n",
    "if we had let the model train for more epochs the loss would definitely converge more to the optimum but thats all i could squeeze with the Time i had and the model already took a lot of time for running a single epoch even on TPU. I stopped training the model at 12 epochs because i was satisfied with the loss curve and got the neccessary information i need in this project."
   ]
  },
  {
   "cell_type": "markdown",
   "metadata": {
    "id": "BAdefKWBLTW9"
   },
   "source": [
    "Determining Thresholds for Precision and Recall"
   ]
  },
  {
   "cell_type": "code",
   "execution_count": null,
   "metadata": {
    "id": "p5Xzn1sln58R"
   },
   "outputs": [],
   "source": [
    "class_names = ['Fish', 'Flower', 'Sugar', 'Gravel']\n",
    "def get_threshold_for_recall(y_true, y_pred, class_i, recall_threshold=0.55, precision_threshold=0.56, plot=False):\n",
    "    precision, recall, thresholds = precision_recall_curve(y_true[:, class_i], y_pred[:, class_i])\n",
    "    i = len(thresholds) - 1\n",
    "    best_recall_threshold = None\n",
    "    while best_recall_threshold is None:\n",
    "        next_threshold = thresholds[i]\n",
    "        next_recall = recall[i]\n",
    "        if next_recall >= recall_threshold:\n",
    "            best_recall_threshold = next_threshold\n",
    "        i -= 1\n",
    "        \n",
    "    \n",
    "    best_precision_threshold = [thres for prec, thres in zip(precision, thresholds) if prec >= precision_threshold][0]\n",
    "    \n",
    "    if plot:\n",
    "        plt.figure(figsize=(10, 7))\n",
    "        plt.step(recall, precision, color='r', alpha=0.3, where='post')\n",
    "        plt.fill_between(recall, precision, alpha=0.3, color='r')\n",
    "        plt.axhline(y=precision[i + 1])\n",
    "        recall_for_prec_thres = [rec for rec, thres in zip(recall, thresholds) \n",
    "                                 if thres == best_precision_threshold][0]\n",
    "        plt.axvline(x=recall_for_prec_thres, color='g')\n",
    "        plt.xlabel('Recall')\n",
    "        plt.ylabel('Precision')\n",
    "        plt.ylim([0.0, 1.05])\n",
    "        plt.xlim([0.0, 1.0])\n",
    "        plt.legend(['PR curve', \n",
    "                    f'Precision {precision[i + 1]: .2f} corresponding to selected recall threshold',\n",
    "                    f'Recall {recall_for_prec_thres: .2f} corresponding to selected precision threshold'])\n",
    "        plt.title(f'Precision-Recall curve for Class {class_names[class_i]}')\n",
    "    return best_recall_threshold, best_precision_threshold"
   ]
  },
  {
   "cell_type": "code",
   "execution_count": null,
   "metadata": {
    "id": "RmE5NC1NTxzG"
   },
   "outputs": [],
   "source": [
    "from keras.models import load_model\n",
    "\n",
    "model_final = load_model('/content/drive/MyDrive/Cloud_model_prediction/Clouds_pattern_prediction_cycle_4.h5')"
   ]
  },
  {
   "cell_type": "code",
   "execution_count": null,
   "metadata": {
    "colab": {
     "base_uri": "https://localhost:8080/"
    },
    "executionInfo": {
     "elapsed": 462222,
     "status": "ok",
     "timestamp": 1621909298303,
     "user": {
      "displayName": "sashank Gs",
      "photoUrl": "https://lh3.googleusercontent.com/a-/AOh14Gi7aEg2ObUcM8GM1vrIjMQVfDMhSy91kl58oyfTIA=s64",
      "userId": "17408273356441464029"
     },
     "user_tz": -330
    },
    "id": "1vNGhl4aUvwn",
    "outputId": "1c70036a-d969-4299-d7c9-84814c2cd13d"
   },
   "outputs": [
    {
     "name": "stderr",
     "output_type": "stream",
     "text": [
      "/usr/local/lib/python3.7/dist-packages/tensorflow/python/keras/engine/training.py:1905: UserWarning: `Model.predict_generator` is deprecated and will be removed in a future version. Please use `Model.predict`, which supports generators.\n",
      "  warnings.warn('`Model.predict_generator` is deprecated and '\n"
     ]
    }
   ],
   "source": [
    "y_pred = model_final.predict_generator(Data_generator_val, workers=num_cores)\n",
    "\n",
    "y_true = Data_generator_val.get_labels()"
   ]
  },
  {
   "cell_type": "code",
   "execution_count": null,
   "metadata": {
    "colab": {
     "base_uri": "https://localhost:8080/",
     "height": 195,
     "referenced_widgets": [
      "6718b89bb9484c5fb9caa178ae7b52dd",
      "f8fee14425a240018f29a88bdbc9c2c6",
      "0253f4586dd445dd820ffa7bf59a55dc",
      "daca92380d944b6fbf9fc5e02b8f5253",
      "77d767a791344659b2d29e3a4d66d28f",
      "57db643258e54be7af5d23b167fbba19",
      "0a66d1eaa08446d7a96c386d63b309c2",
      "f97ee6b7af3341e48ccbcbdb5a81c9e7"
     ]
    },
    "executionInfo": {
     "elapsed": 323,
     "status": "ok",
     "timestamp": 1621846380895,
     "user": {
      "displayName": "sashank Gs",
      "photoUrl": "https://lh3.googleusercontent.com/a-/AOh14Gi7aEg2ObUcM8GM1vrIjMQVfDMhSy91kl58oyfTIA=s64",
      "userId": "17408273356441464029"
     },
     "user_tz": -330
    },
    "id": "MUNXDtaNk1E4",
    "outputId": "f371ab90-c36d-466d-ef03-a9bb511fdf42"
   },
   "outputs": [
    {
     "name": "stderr",
     "output_type": "stream",
     "text": [
      "/usr/local/lib/python3.7/dist-packages/ipykernel_launcher.py:1: TqdmDeprecationWarning: This function will be removed in tqdm==5.0.0\n",
      "Please use `tqdm.notebook.tqdm` instead of `tqdm.tqdm_notebook`\n",
      "  \"\"\"Entry point for launching an IPython kernel.\n"
     ]
    },
    {
     "data": {
      "application/vnd.jupyter.widget-view+json": {
       "model_id": "6718b89bb9484c5fb9caa178ae7b52dd",
       "version_major": 2,
       "version_minor": 0
      },
      "text/plain": [
       "HBox(children=(FloatProgress(value=1.0, bar_style='info', max=1.0), HTML(value='')))"
      ]
     },
     "metadata": {
      "tags": []
     },
     "output_type": "display_data"
    },
    {
     "name": "stdout",
     "output_type": "stream",
     "text": [
      "0 Fish\n",
      "1 Flower\n",
      "2 Sugar\n",
      "3 Gravel\n",
      "\n"
     ]
    }
   ],
   "source": [
    "for i, class_name in tqdm(enumerate(class_names)):\n",
    "  print(i, class_name)"
   ]
  },
  {
   "cell_type": "markdown",
   "metadata": {
    "id": "pCfpjxcuiVBU"
   },
   "source": [
    "PR AUC FOR FISH"
   ]
  },
  {
   "cell_type": "code",
   "execution_count": null,
   "metadata": {
    "colab": {
     "base_uri": "https://localhost:8080/",
     "height": 458
    },
    "executionInfo": {
     "elapsed": 462,
     "status": "ok",
     "timestamp": 1621912785695,
     "user": {
      "displayName": "sashank Gs",
      "photoUrl": "https://lh3.googleusercontent.com/a-/AOh14Gi7aEg2ObUcM8GM1vrIjMQVfDMhSy91kl58oyfTIA=s64",
      "userId": "17408273356441464029"
     },
     "user_tz": -330
    },
    "id": "yMRN_0s0iJig",
    "outputId": "74542a3d-2dd6-4896-88ea-2685a8ccd8c6"
   },
   "outputs": [
    {
     "data": {
      "image/png": "[encoded data removed]",
      "text/plain": [
       "<Figure size 720x504 with 1 Axes>"
      ]
     },
     "metadata": {
      "tags": []
     },
     "output_type": "display_data"
    }
   ],
   "source": [
    "recall_thresholds['Fish'], precision_thresholds['Fish'] = get_threshold_for_recall(y_true, y_pred, recall_threshold=0.51, precision_threshold=0.52, class_i = 0, plot = True)"
   ]
  },
  {
   "cell_type": "markdown",
   "metadata": {
    "id": "kUNg3KxeiYIk"
   },
   "source": [
    "PR AUC FOR Flower"
   ]
  },
  {
   "cell_type": "code",
   "execution_count": null,
   "metadata": {
    "colab": {
     "base_uri": "https://localhost:8080/",
     "height": 458
    },
    "executionInfo": {
     "elapsed": 560,
     "status": "ok",
     "timestamp": 1621912858406,
     "user": {
      "displayName": "sashank Gs",
      "photoUrl": "https://lh3.googleusercontent.com/a-/AOh14Gi7aEg2ObUcM8GM1vrIjMQVfDMhSy91kl58oyfTIA=s64",
      "userId": "17408273356441464029"
     },
     "user_tz": -330
    },
    "id": "fzt305qGibTy",
    "outputId": "ccbc8b30-df79-4ab5-a3e6-91db309b5f95"
   },
   "outputs": [
    {
     "data": {
      "image/png": "[encoded data removed]",
      "text/plain": [
       "<Figure size 720x504 with 1 Axes>"
      ]
     },
     "metadata": {
      "tags": []
     },
     "output_type": "display_data"
    }
   ],
   "source": [
    "recall_thresholds[\"Flower\"], precision_thresholds[\"Fower\"] = get_threshold_for_recall(y_true, y_pred, recall_threshold=0.51, precision_threshold=0.52, class_i = 1, plot = True)"
   ]
  },
  {
   "cell_type": "markdown",
   "metadata": {
    "id": "R-2FvXN5ilVL"
   },
   "source": [
    "PR AUC FOR SUGAR"
   ]
  },
  {
   "cell_type": "code",
   "execution_count": null,
   "metadata": {
    "colab": {
     "base_uri": "https://localhost:8080/",
     "height": 458
    },
    "executionInfo": {
     "elapsed": 625,
     "status": "ok",
     "timestamp": 1621913061533,
     "user": {
      "displayName": "sashank Gs",
      "photoUrl": "https://lh3.googleusercontent.com/a-/AOh14Gi7aEg2ObUcM8GM1vrIjMQVfDMhSy91kl58oyfTIA=s64",
      "userId": "17408273356441464029"
     },
     "user_tz": -330
    },
    "id": "FPEy1d0Iiml4",
    "outputId": "58f1ca2e-ad50-4c6e-a879-be7f9cedc2d3"
   },
   "outputs": [
    {
     "data": {
      "image/png": "[encoded data removed]",
      "text/plain": [
       "<Figure size 720x504 with 1 Axes>"
      ]
     },
     "metadata": {
      "tags": []
     },
     "output_type": "display_data"
    }
   ],
   "source": [
    "recall_thresholds[\"Sugar\"], precision_thresholds[\"Sugar\"] = get_threshold_for_recall(y_true, y_pred, recall_threshold=0.4, precision_threshold = 0.52 , class_i = 2, plot = True)"
   ]
  },
  {
   "cell_type": "markdown",
   "metadata": {
    "id": "ExY6b9RNjpQU"
   },
   "source": [
    "PR AUC FOR GRAVEL"
   ]
  },
  {
   "cell_type": "code",
   "execution_count": null,
   "metadata": {
    "colab": {
     "base_uri": "https://localhost:8080/",
     "height": 458
    },
    "executionInfo": {
     "elapsed": 454,
     "status": "ok",
     "timestamp": 1621913091912,
     "user": {
      "displayName": "sashank Gs",
      "photoUrl": "https://lh3.googleusercontent.com/a-/AOh14Gi7aEg2ObUcM8GM1vrIjMQVfDMhSy91kl58oyfTIA=s64",
      "userId": "17408273356441464029"
     },
     "user_tz": -330
    },
    "id": "iQcKvzUZiuS9",
    "outputId": "35f287b2-b753-42b4-f38d-cdbb4de27c77"
   },
   "outputs": [
    {
     "data": {
      "image/png": "[encoded data removed]",
      "text/plain": [
       "<Figure size 720x504 with 1 Axes>"
      ]
     },
     "metadata": {
      "tags": []
     },
     "output_type": "display_data"
    }
   ],
   "source": [
    "recall_thresholds['Gravel'], precision_thresholds[\"Gravel\"] = get_threshold_for_recall(y_true, y_pred, recall_threshold=0.51, precision_threshold=0.52, class_i = 3, plot = True)"
   ]
  },
  {
   "cell_type": "markdown",
   "metadata": {
    "id": "mYYNVzBwj1z6"
   },
   "source": [
    "From the above representations we can come to a conclusion that our model had a high recall rate, which is good and means that it predicted accurately the True positives, As for the precision, Out of all the predcited values our model was right at an average of `61%` of the time. \n",
    "\n",
    "> Considering the amount of data and time we had, Our model's performance was not bad.\n"
   ]
  },
  {
   "cell_type": "markdown",
   "metadata": {
    "id": "fUxUzSw4sgRZ"
   },
   "source": [
    "\n",
    "### This is The End of The Notebook\n",
    "We have finished our Training and evaluation of the model.\n",
    "\n",
    "`Hence we have pushed on to remove the haze from climate models and brought some clarity to cloud identification.`"
   ]
  }
 ],
 "metadata": {
  "accelerator": "TPU",
  "colab": {
   "authorship_tag": "ABX9TyM6ylXp1sZZqHhjLUVclRNe",
   "collapsed_sections": [],
   "name": "Clouds_Model.ipynb",
   "provenance": []
  },
  "kernelspec": {
   "display_name": "Python 3",
   "language": "python",
   "name": "python3"
  },
  "language_info": {
   "codemirror_mode": {
    "name": "ipython",
    "version": 3
   },
   "file_extension": ".py",
   "mimetype": "text/x-python",
   "name": "python",
   "nbconvert_exporter": "python",
   "pygments_lexer": "ipython3",
   "version": "3.8.3"
  },
  "widgets": {
   "application/vnd.jupyter.widget-state+json": {
    "0253f4586dd445dd820ffa7bf59a55dc": {
     "model_module": "@jupyter-widgets/controls",
     "model_name": "FloatProgressModel",
     "state": {
      "_dom_classes": [],
      "_model_module": "@jupyter-widgets/controls",
      "_model_module_version": "1.5.0",
      "_model_name": "FloatProgressModel",
      "_view_count": null,
      "_view_module": "@jupyter-widgets/controls",
      "_view_module_version": "1.5.0",
      "_view_name": "ProgressView",
      "bar_style": "success",
      "description": "",
      "description_tooltip": null,
      "layout": "IPY_MODEL_57db643258e54be7af5d23b167fbba19",
      "max": 1,
      "min": 0,
      "orientation": "horizontal",
      "style": "IPY_MODEL_77d767a791344659b2d29e3a4d66d28f",
      "value": 1
     }
    },
    "0a66d1eaa08446d7a96c386d63b309c2": {
     "model_module": "@jupyter-widgets/controls",
     "model_name": "DescriptionStyleModel",
     "state": {
      "_model_module": "@jupyter-widgets/controls",
      "_model_module_version": "1.5.0",
      "_model_name": "DescriptionStyleModel",
      "_view_count": null,
      "_view_module": "@jupyter-widgets/base",
      "_view_module_version": "1.2.0",
      "_view_name": "StyleView",
      "description_width": ""
     }
    },
    "57db643258e54be7af5d23b167fbba19": {
     "model_module": "@jupyter-widgets/base",
     "model_name": "LayoutModel",
     "state": {
      "_model_module": "@jupyter-widgets/base",
      "_model_module_version": "1.2.0",
      "_model_name": "LayoutModel",
      "_view_count": null,
      "_view_module": "@jupyter-widgets/base",
      "_view_module_version": "1.2.0",
      "_view_name": "LayoutView",
      "align_content": null,
      "align_items": null,
      "align_self": null,
      "border": null,
      "bottom": null,
      "display": null,
      "flex": null,
      "flex_flow": null,
      "grid_area": null,
      "grid_auto_columns": null,
      "grid_auto_flow": null,
      "grid_auto_rows": null,
      "grid_column": null,
      "grid_gap": null,
      "grid_row": null,
      "grid_template_areas": null,
      "grid_template_columns": null,
      "grid_template_rows": null,
      "height": null,
      "justify_content": null,
      "justify_items": null,
      "left": null,
      "margin": null,
      "max_height": null,
      "max_width": null,
      "min_height": null,
      "min_width": null,
      "object_fit": null,
      "object_position": null,
      "order": null,
      "overflow": null,
      "overflow_x": null,
      "overflow_y": null,
      "padding": null,
      "right": null,
      "top": null,
      "visibility": null,
      "width": null
     }
    },
    "6718b89bb9484c5fb9caa178ae7b52dd": {
     "model_module": "@jupyter-widgets/controls",
     "model_name": "HBoxModel",
     "state": {
      "_dom_classes": [],
      "_model_module": "@jupyter-widgets/controls",
      "_model_module_version": "1.5.0",
      "_model_name": "HBoxModel",
      "_view_count": null,
      "_view_module": "@jupyter-widgets/controls",
      "_view_module_version": "1.5.0",
      "_view_name": "HBoxView",
      "box_style": "",
      "children": [
       "IPY_MODEL_0253f4586dd445dd820ffa7bf59a55dc",
       "IPY_MODEL_daca92380d944b6fbf9fc5e02b8f5253"
      ],
      "layout": "IPY_MODEL_f8fee14425a240018f29a88bdbc9c2c6"
     }
    },
    "77d767a791344659b2d29e3a4d66d28f": {
     "model_module": "@jupyter-widgets/controls",
     "model_name": "ProgressStyleModel",
     "state": {
      "_model_module": "@jupyter-widgets/controls",
      "_model_module_version": "1.5.0",
      "_model_name": "ProgressStyleModel",
      "_view_count": null,
      "_view_module": "@jupyter-widgets/base",
      "_view_module_version": "1.2.0",
      "_view_name": "StyleView",
      "bar_color": null,
      "description_width": "initial"
     }
    },
    "daca92380d944b6fbf9fc5e02b8f5253": {
     "model_module": "@jupyter-widgets/controls",
     "model_name": "HTMLModel",
     "state": {
      "_dom_classes": [],
      "_model_module": "@jupyter-widgets/controls",
      "_model_module_version": "1.5.0",
      "_model_name": "HTMLModel",
      "_view_count": null,
      "_view_module": "@jupyter-widgets/controls",
      "_view_module_version": "1.5.0",
      "_view_name": "HTMLView",
      "description": "",
      "description_tooltip": null,
      "layout": "IPY_MODEL_f97ee6b7af3341e48ccbcbdb5a81c9e7",
      "placeholder": "​",
      "style": "IPY_MODEL_0a66d1eaa08446d7a96c386d63b309c2",
      "value": " 4/? [00:55&lt;00:00, 13.85s/it]"
     }
    },
    "f8fee14425a240018f29a88bdbc9c2c6": {
     "model_module": "@jupyter-widgets/base",
     "model_name": "LayoutModel",
     "state": {
      "_model_module": "@jupyter-widgets/base",
      "_model_module_version": "1.2.0",
      "_model_name": "LayoutModel",
      "_view_count": null,
      "_view_module": "@jupyter-widgets/base",
      "_view_module_version": "1.2.0",
      "_view_name": "LayoutView",
      "align_content": null,
      "align_items": null,
      "align_self": null,
      "border": null,
      "bottom": null,
      "display": null,
      "flex": null,
      "flex_flow": null,
      "grid_area": null,
      "grid_auto_columns": null,
      "grid_auto_flow": null,
      "grid_auto_rows": null,
      "grid_column": null,
      "grid_gap": null,
      "grid_row": null,
      "grid_template_areas": null,
      "grid_template_columns": null,
      "grid_template_rows": null,
      "height": null,
      "justify_content": null,
      "justify_items": null,
      "left": null,
      "margin": null,
      "max_height": null,
      "max_width": null,
      "min_height": null,
      "min_width": null,
      "object_fit": null,
      "object_position": null,
      "order": null,
      "overflow": null,
      "overflow_x": null,
      "overflow_y": null,
      "padding": null,
      "right": null,
      "top": null,
      "visibility": null,
      "width": null
     }
    },
    "f97ee6b7af3341e48ccbcbdb5a81c9e7": {
     "model_module": "@jupyter-widgets/base",
     "model_name": "LayoutModel",
     "state": {
      "_model_module": "@jupyter-widgets/base",
      "_model_module_version": "1.2.0",
      "_model_name": "LayoutModel",
      "_view_count": null,
      "_view_module": "@jupyter-widgets/base",
      "_view_module_version": "1.2.0",
      "_view_name": "LayoutView",
      "align_content": null,
      "align_items": null,
      "align_self": null,
      "border": null,
      "bottom": null,
      "display": null,
      "flex": null,
      "flex_flow": null,
      "grid_area": null,
      "grid_auto_columns": null,
      "grid_auto_flow": null,
      "grid_auto_rows": null,
      "grid_column": null,
      "grid_gap": null,
      "grid_row": null,
      "grid_template_areas": null,
      "grid_template_columns": null,
      "grid_template_rows": null,
      "height": null,
      "justify_content": null,
      "justify_items": null,
      "left": null,
      "margin": null,
      "max_height": null,
      "max_width": null,
      "min_height": null,
      "min_width": null,
      "object_fit": null,
      "object_position": null,
      "order": null,
      "overflow": null,
      "overflow_x": null,
      "overflow_y": null,
      "padding": null,
      "right": null,
      "top": null,
      "visibility": null,
      "width": null
     }
    }
   }
  }
 },
 "nbformat": 4,
 "nbformat_minor": 1
}
